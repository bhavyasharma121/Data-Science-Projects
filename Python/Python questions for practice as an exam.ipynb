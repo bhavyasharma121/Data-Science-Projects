{
 "cells": [
  {
   "cell_type": "markdown",
   "id": "f5d256a3",
   "metadata": {},
   "source": [
    "### 1. One cause for speeding is the desire to shorten the time spent traveling. In long distance trips, speeding does save an appreciable amount of time. However, the same cannot be said about short distance trips.\n",
    "\n",
    "Create a function that calculates the amount of time saved were you traveling with an average speed that is above the speed-limit as compared to traveling with an average speed exactly at the speed-limit. \n",
    "\n",
    "formula d = r * t (where d = distance (in miles); r = rate (in mph); and t = time (in hrs). **(5 Marks)**"
   ]
  },
  {
   "cell_type": "raw",
   "id": "1d21c72f",
   "metadata": {},
   "source": [
    "The parameter's format is as follows:\n",
    "(speed limit, avg speed, distance traveled at avg speed)\n",
    "\n",
    "Examples/Expected output - \n",
    "\n",
    "time_saved(80, 90, 40) ➞ 3.3\n",
    "\n",
    "time_saved(80, 90, 4000) ➞ 333.3\n",
    "\n",
    "time_saved(80, 100, 40 ) ➞ 6.0\n",
    "\n",
    "time_saved(80, 100, 10) ➞ 1.5"
   ]
  },
  {
   "cell_type": "code",
   "execution_count": 21,
   "id": "544ca900",
   "metadata": {},
   "outputs": [],
   "source": [
    "## Write your code here\n",
    "def time_saved(s,a,d):\n",
    "    t1=(d/a)*60\n",
    "    t2=(d/s)*60\n",
    "    return(t2-t1)\n"
   ]
  },
  {
   "cell_type": "code",
   "execution_count": 22,
   "id": "57feac61",
   "metadata": {},
   "outputs": [
    {
     "data": {
      "text/plain": [
       "3.3333333333333357"
      ]
     },
     "execution_count": 22,
     "metadata": {},
     "output_type": "execute_result"
    }
   ],
   "source": [
    "time_saved(80,90,40)"
   ]
  },
  {
   "cell_type": "code",
   "execution_count": 23,
   "id": "dd8aa756",
   "metadata": {},
   "outputs": [
    {
     "data": {
      "text/plain": [
       "333.3333333333335"
      ]
     },
     "execution_count": 23,
     "metadata": {},
     "output_type": "execute_result"
    }
   ],
   "source": [
    "time_saved(80,90,4000)"
   ]
  },
  {
   "cell_type": "markdown",
   "id": "5b927fb6",
   "metadata": {},
   "source": [
    "### 2. A profitable gamble is a game that yields a positive net profit. The net profit is calculated using below formula -\n",
    "\n",
    "### net_outcome = probability_of_winning * prize - cost_of_playing\n",
    "\n",
    "Write a function that will tell user whether they should play the game or not given the cost of playing the game,probability of winning and the prize. For playing the game the net outcome should be positive. **(5 Marks)**\n",
    "\n"
   ]
  },
  {
   "cell_type": "code",
   "execution_count": 6,
   "id": "2b1f6e7e",
   "metadata": {},
   "outputs": [],
   "source": [
    "## Write your code here\n",
    "def game():\n",
    "    a=float(input('Enter the probability of winning : '))\n",
    "    b=float(input('Enter the prize money : '))\n",
    "    c=float(input('Enter the cost of playing : '))\n",
    "    net_outcome=a*b-c\n",
    "    if net_outcome>0:\n",
    "        return('You can play the game')\n",
    "    else:\n",
    "        return('You cannot play the game')\n",
    "        "
   ]
  },
  {
   "cell_type": "code",
   "execution_count": 7,
   "id": "91ed191f",
   "metadata": {},
   "outputs": [
    {
     "name": "stdout",
     "output_type": "stream",
     "text": [
      "Enter the probability of winning : 0.21\n",
      "Enter the prize money : 200\n",
      "Enter the cost of playing : 200\n"
     ]
    },
    {
     "data": {
      "text/plain": [
       "'You cannot play the game'"
      ]
     },
     "execution_count": 7,
     "metadata": {},
     "output_type": "execute_result"
    }
   ],
   "source": [
    "game()"
   ]
  },
  {
   "cell_type": "markdown",
   "id": "86ccbdde",
   "metadata": {},
   "source": [
    "### 3. Luke Skywalker has family and friends. Help him remind them who is who. Write a function which given a string with a name, return the relation of that person to Luke. ( 5 Marks)\n",
    "\n",
    "|Person|Relation|\n",
    "|------|--------|\n",
    "|Darth Vader|\tfather|\n",
    "|Leia\t|sister|\n",
    "|Han\t|brother in law|\n",
    "|R2D2|\tdroid|\n",
    "\n"
   ]
  },
  {
   "cell_type": "raw",
   "id": "7bb21658",
   "metadata": {},
   "source": [
    "Examples - \n",
    "\n",
    "relation_to_luke(\"Darth Vader\") ➞ \"Luke, I am your father.\"\n",
    "\n",
    "relation_to_luke(\"Leia\") ➞ \"Luke, I am your sister.\"\n",
    "\n",
    "relation_to_luke(\"Han\") ➞ \"Luke, I am your brother in law.\""
   ]
  },
  {
   "cell_type": "code",
   "execution_count": 27,
   "id": "97283adc",
   "metadata": {},
   "outputs": [],
   "source": [
    "## Write your code here\n",
    "def relation_to_luke(a):\n",
    "    if  a== 'Darth Vader'or a=='darth vader':\n",
    "        return('Luke , I am your father')\n",
    "    elif a== 'Leia' or a== 'leia' :\n",
    "        return('Luke , I am your sister')\n",
    "    elif a== 'Han' or a=='han':\n",
    "        return('Luke , I am your brother in law')\n",
    "    elif a== 'R2D2' or a== 'r2d2':\n",
    "        return('Luke , I am your droid')\n",
    "            \n",
    "    "
   ]
  },
  {
   "cell_type": "code",
   "execution_count": 28,
   "id": "43f3227b",
   "metadata": {},
   "outputs": [
    {
     "data": {
      "text/plain": [
       "'Luke , I am your brother in law'"
      ]
     },
     "execution_count": 28,
     "metadata": {},
     "output_type": "execute_result"
    }
   ],
   "source": [
    "relation_to_luke('Han')"
   ]
  },
  {
   "cell_type": "code",
   "execution_count": 29,
   "id": "9a760732",
   "metadata": {},
   "outputs": [
    {
     "data": {
      "text/plain": [
       "'Luke , I am your sister'"
      ]
     },
     "execution_count": 29,
     "metadata": {},
     "output_type": "execute_result"
    }
   ],
   "source": [
    "relation_to_luke('leia')"
   ]
  },
  {
   "cell_type": "markdown",
   "id": "4468907e",
   "metadata": {},
   "source": [
    "### 4. Wild Roger is participating in a Western Showdown, meaning he has to draw (pull out and shoot) his gun faster than his opponent in a gun standoff.\n",
    "\n",
    "Write a function which when given two strings,p1 and p2, return which person drew their gun the fastest. \n",
    "If both are drawn at the same time, return \"tie\". **(5 Marks)**"
   ]
  },
  {
   "cell_type": "raw",
   "id": "5227e591",
   "metadata": {},
   "source": [
    "### Examples/Expected output - \n",
    "\n",
    "showdown(\n",
    "  \"   Bang!        \",\n",
    "  \"        Bang!   \"\n",
    ") --> \"p1\"\n",
    "\n",
    "# p1 draws his gun sooner than p2\n",
    "\n",
    "showdown(\n",
    "  \"               Bang! \",\n",
    "  \"             Bang!   \"\n",
    ") --> \"p2\"\n",
    "\n",
    "showdown(\n",
    "  \"     Bang!   \",\n",
    "  \"     Bang!   \"\n",
    ") --> \"tie\""
   ]
  },
  {
   "cell_type": "code",
   "execution_count": 38,
   "id": "e5fd69dc",
   "metadata": {},
   "outputs": [],
   "source": [
    "## Write your code here\n",
    "def showdown(a,b):\n",
    "    c=0\n",
    "    d=0\n",
    "    for i in range(len(a)):\n",
    "        c=c+1\n",
    "        if a[i]=='B':\n",
    "            break\n",
    "    for i in range(len(b)):\n",
    "        d=d+1\n",
    "        if b[i]=='B':\n",
    "            break\n",
    "    if c<d:\n",
    "        return('p1')\n",
    "    if c>d:\n",
    "        return('p2')\n",
    "    else:\n",
    "        return('tie')"
   ]
  },
  {
   "cell_type": "code",
   "execution_count": 40,
   "id": "ac03e94a",
   "metadata": {},
   "outputs": [
    {
     "data": {
      "text/plain": [
       "'p1'"
      ]
     },
     "execution_count": 40,
     "metadata": {},
     "output_type": "execute_result"
    }
   ],
   "source": [
    "showdown(\n",
    "  \"   Bang!        \",\n",
    "  \"        Bang!   \"\n",
    ")"
   ]
  },
  {
   "cell_type": "code",
   "execution_count": 41,
   "id": "e929fe68",
   "metadata": {},
   "outputs": [
    {
     "data": {
      "text/plain": [
       "'p2'"
      ]
     },
     "execution_count": 41,
     "metadata": {},
     "output_type": "execute_result"
    }
   ],
   "source": [
    "showdown(\n",
    "  \"               Bang! \",\n",
    "  \"             Bang!   \"\n",
    ")"
   ]
  },
  {
   "cell_type": "code",
   "execution_count": 42,
   "id": "e454f021",
   "metadata": {},
   "outputs": [
    {
     "data": {
      "text/plain": [
       "'tie'"
      ]
     },
     "execution_count": 42,
     "metadata": {},
     "output_type": "execute_result"
    }
   ],
   "source": [
    "showdown(\n",
    "  \"     Bang!   \",\n",
    "  \"     Bang!   \"\n",
    ")"
   ]
  },
  {
   "cell_type": "markdown",
   "id": "a1873176",
   "metadata": {},
   "source": [
    "### <center> Section - B (20 Marks) </center>"
   ]
  },
  {
   "cell_type": "markdown",
   "id": "6d934f32",
   "metadata": {},
   "source": [
    "### 5.Steve and Maurice have racing snails. They each have three, a slow s, medium m and fast f one. Although Steve's snails are all a bit stronger than Maurice's, Maurice has a trick up his sleeve. His plan is:\n",
    "\n",
    "Round 1: [s, f] Sacrifice his slowest snail against Steve's fastest.\n",
    "Round 2: [m, s] Use his middle snail against Steve's slowest.\n",
    "Round 3: [f, m] Use his fastest snail against Steve's middle.\n",
    "Create a function that determines whether Maurice's plan will work by outputting True if Maurice wins 2/3 games. **(10 Marks)**\n"
   ]
  },
  {
   "cell_type": "raw",
   "id": "e17d35f6",
   "metadata": {},
   "source": [
    "The function inputs:\n",
    "\n",
    "List 1: [s, m, f] for Maurice.\n",
    "List 2: [s, m, f] for Steve.\n",
    "\n",
    "maurice_wins([3, 5, 10], [4, 7, 11]) --> True\n",
    "# Since the matches are (3, 11), (5, 4) and (10, 7), Maurice wins 2 out of 3.\n",
    "\n",
    "maurice_wins([6, 8, 9], [7, 12, 14]) --> False\n",
    "# Since the matches are (6, 14), (8, 7) and (9, 12), Steve wins 2 out of 3.\n",
    "\n",
    "maurice_wins([1, 8, 20], [2, 9, 100]) --> True"
   ]
  },
  {
   "cell_type": "code",
   "execution_count": null,
   "id": "c9c081b9",
   "metadata": {},
   "outputs": [],
   "source": [
    "## Write your code here"
   ]
  },
  {
   "cell_type": "code",
   "execution_count": 62,
   "id": "2285888b",
   "metadata": {},
   "outputs": [],
   "source": [
    "def maurice_wins(l1,l2):\n",
    "        sc=0\n",
    "        mc=0\n",
    "        if l1[0]>l2[2]:\n",
    "                mc=mc+1\n",
    "        else:\n",
    "            sc=sc+1\n",
    "            \n",
    "        if l1[1]>l2[0]:\n",
    "                mc=mc+1\n",
    "        else:\n",
    "            sc=sc+1\n",
    "        \n",
    "        if l1[2]>l2[1]:\n",
    "                mc=mc+1\n",
    "        else:\n",
    "            sc=sc+1\n",
    "            \n",
    "        if mc>=2:\n",
    "            return('True')\n",
    "        else:\n",
    "            return('False')\n",
    "            \n",
    "      "
   ]
  },
  {
   "cell_type": "code",
   "execution_count": 63,
   "id": "80d438ec",
   "metadata": {},
   "outputs": [
    {
     "data": {
      "text/plain": [
       "'True'"
      ]
     },
     "execution_count": 63,
     "metadata": {},
     "output_type": "execute_result"
    }
   ],
   "source": [
    "maurice_wins([1, 8, 20], [2, 9, 100])"
   ]
  },
  {
   "cell_type": "code",
   "execution_count": 65,
   "id": "7ddb9323",
   "metadata": {},
   "outputs": [
    {
     "data": {
      "text/plain": [
       "'True'"
      ]
     },
     "execution_count": 65,
     "metadata": {},
     "output_type": "execute_result"
    }
   ],
   "source": [
    "maurice_wins([3, 5, 10], [4, 7, 11])"
   ]
  },
  {
   "cell_type": "code",
   "execution_count": 66,
   "id": "f9e17bd9",
   "metadata": {},
   "outputs": [
    {
     "data": {
      "text/plain": [
       "'False'"
      ]
     },
     "execution_count": 66,
     "metadata": {},
     "output_type": "execute_result"
    }
   ],
   "source": [
    "maurice_wins([6, 8, 9], [7, 12, 14])"
   ]
  },
  {
   "cell_type": "markdown",
   "id": "54356b30",
   "metadata": {},
   "source": [
    "### 6.A Collatz sequence is generated like this. Start with a positive number. If it's even, halve it. If it's odd, multiply it by three and add one. Repeat the process with the resulting number. The Collatz Conjecture is that every sequence eventually reaches 1 (continuing past 1 just results in an endless repeat of the sequence 4, 2, 1).\n",
    "\n",
    "The length of the sequence from starting number to 1 varies widely.\n",
    "\n",
    "Create a function that takes a number as an argument and returns a tuple of three elements — the number of steps in the Collatz sequence of the number, the highest number reached. **(10 Marks)**"
   ]
  },
  {
   "cell_type": "raw",
   "id": "2138de90",
   "metadata": {},
   "source": [
    "### Examples\n",
    "\n",
    "collatz(2) --> (2, 2)\n",
    "# seq = [2, 1]\n",
    "\n",
    "collatz(3) --> (8, 16)\n",
    "# seq = [3, 10, 5, 16, 8, 4, 2, 1]\n",
    "\n",
    "collatz(7) --> (17, 52)\n",
    "# seq = [7, 22, 11, 34, 17, 52, 26, 13, 40, 20, 10, 5, 16, 8, 4, 2, 1]\n",
    "\n",
    "collatz(8) --> (4, 8)\n",
    "# seq = [8, 4, 2, 1]"
   ]
  },
  {
   "cell_type": "code",
   "execution_count": 1,
   "id": "cb8b9c20",
   "metadata": {},
   "outputs": [],
   "source": [
    "## Write your code here"
   ]
  },
  {
   "cell_type": "code",
   "execution_count": 45,
   "id": "f35c9496",
   "metadata": {},
   "outputs": [],
   "source": [
    "def collatz(x):\n",
    "    list1=[]\n",
    "    list2=[x]\n",
    "    if x<0:\n",
    "        return('Not a positive number')\n",
    "    else:\n",
    "        while x!=1:\n",
    "            if x%2==0:\n",
    "                a=x/2\n",
    "            else:\n",
    "                a=(x*3)+1\n",
    "            list1.append(a)\n",
    "            x=a\n",
    "    return(list2+list1)\n",
    "    "
   ]
  },
  {
   "cell_type": "code",
   "execution_count": 48,
   "id": "dfee3672",
   "metadata": {},
   "outputs": [
    {
     "data": {
      "text/plain": [
       "[2, 1.0]"
      ]
     },
     "execution_count": 48,
     "metadata": {},
     "output_type": "execute_result"
    }
   ],
   "source": [
    "collatz(2)"
   ]
  },
  {
   "cell_type": "code",
   "execution_count": 51,
   "id": "8ee1a109",
   "metadata": {},
   "outputs": [
    {
     "data": {
      "text/plain": [
       "[3, 10, 5.0, 16.0, 8.0, 4.0, 2.0, 1.0]"
      ]
     },
     "execution_count": 51,
     "metadata": {},
     "output_type": "execute_result"
    }
   ],
   "source": [
    "collatz(3)"
   ]
  },
  {
   "cell_type": "code",
   "execution_count": 53,
   "id": "69c65081",
   "metadata": {},
   "outputs": [
    {
     "name": "stdout",
     "output_type": "stream",
     "text": [
      "[7, 22, 11.0, 34.0, 17.0, 52.0, 26.0, 13.0, 40.0, 20.0, 10.0, 5.0, 16.0, 8.0, 4.0, 2.0, 1.0]\n"
     ]
    }
   ],
   "source": [
    "print(collatz(7))"
   ]
  },
  {
   "cell_type": "code",
   "execution_count": 54,
   "id": "9adb3ff8",
   "metadata": {},
   "outputs": [
    {
     "name": "stdout",
     "output_type": "stream",
     "text": [
      "[8, 4.0, 2.0, 1.0]\n"
     ]
    }
   ],
   "source": [
    "print(collatz(8))"
   ]
  },
  {
   "cell_type": "markdown",
   "id": "e54200fd",
   "metadata": {},
   "source": [
    "### <center> Section - C (30 Marks) </center>"
   ]
  },
  {
   "cell_type": "markdown",
   "id": "758c4af7",
   "metadata": {},
   "source": [
    "### 7. This is an English twist on the Japanese word game shiritori. The basic premise is to follow two rules: (15 Marks)\n",
    "\n",
    "First character of next word must match last character of previous word.\n",
    "The word must not have already been said.\n",
    "Below is an example of a Shiritori game:\n",
    "\n",
    "[\"word\", \"dowry\", \"yodel\", \"leader\", \"righteous\", \"serpent\"]  #valid!\n",
    "\n",
    "[\"motive\", \"beach\"]  # invalid! - beach should start with \"e\"\n",
    "\n",
    "[\"hive\", \"eh\", \"hive\"]  # invalid! - \"hive\" has already been said"
   ]
  },
  {
   "cell_type": "raw",
   "id": "3926cf9f",
   "metadata": {},
   "source": [
    "## Example - 1\n",
    "\n",
    "Want to play the game?!(y/n) y\n",
    "Enter the Word- word\n",
    "Enter the Word- dowry\n",
    "Enter the Word- yodel\n",
    "Enter the Word- leader\n",
    "Enter the Word- righteous\n",
    "Enter the Word- serpent\n",
    "Enter the Word- town\n",
    "Enter the Word- nobel\n",
    "Enter the Word- leader\n",
    "The word is already there! You lost!\n",
    "['word', 'dowry', 'yodel', 'leader', 'righteous', 'serpent', 'town', 'nobel']\n",
    "\n",
    "\n",
    "## Example - 2\n",
    "\n",
    "Want to play the game?!(y/n) y\n",
    "Enter the Word- motive\n",
    "Enter the Word- beach\n",
    "The word does not starts with the last charcter of previous word! You lost!\n",
    "['motive']"
   ]
  },
  {
   "cell_type": "code",
   "execution_count": 2,
   "id": "3c7e45b3",
   "metadata": {},
   "outputs": [],
   "source": [
    "## Write your code here"
   ]
  },
  {
   "cell_type": "code",
   "execution_count": 82,
   "id": "66301700",
   "metadata": {},
   "outputs": [
    {
     "name": "stdout",
     "output_type": "stream",
     "text": [
      "Enter a wordword\n",
      "Enter the worddowry\n",
      "Enter the wordyodel\n",
      "Enter the wordleader\n",
      "Enter the wordrighteous\n",
      "Enter the wordserpent\n",
      "Enter the wordtown\n",
      "Enter the wordnobel\n",
      "Enter the wordleader\n",
      "The word is already there! You lost!\n",
      "['word', 'dowry', 'yodel', 'leader', 'righteous', 'serpent', 'town', 'nobel']\n"
     ]
    }
   ],
   "source": [
    "a=input('Enter a word')\n",
    "l1=[]\n",
    "l1.append(a)\n",
    "for i in l1:\n",
    "    b=input('Enter the word')\n",
    "    if b in l1:\n",
    "        print('The word is already there! You lost!')\n",
    "        break\n",
    "    elif i[-1]==b[0]:\n",
    "        l1.append(b)\n",
    "    \n",
    "    else:\n",
    "        print('The word does not starts with the last charcter of previous word! You lost!')\n",
    "print(l1)"
   ]
  },
  {
   "cell_type": "markdown",
   "id": "fbe65843",
   "metadata": {},
   "source": [
    "## 8. Given a number n, Write a function which returns a sentence which describes the number in the following ways. (15 Marks)\n",
    "\n",
    "Always start the string with \"The most\".\n",
    "\n",
    "If n is evenly divisible by 1, add \"brilliant\" to the sentence.\n",
    "\n",
    "If n is evenly divisble by 2, add \"exciting\" to the sentence.\n",
    "\n",
    "If n is evenly divisible by 3, add \"fantastic\" to the sentence.\n",
    "\n",
    "If n is evenly divisible by 4, add \"virtuous\" to the sentence.\n",
    "\n",
    "If n is evenly divisible by 5, add \"heart-warming\".\n",
    "\n",
    "If n is evenly divisible by 6, add \"tear-jerking\".\n",
    "\n",
    "If n is evenly divisible by 7, add \"beautiful\" .\n",
    "\n",
    "If n is evenly divisible by 8, add \"exhilarating\" .\n",
    "\n",
    "If n is evenly divisible by 9, add \"emotional\" .\n",
    "\n",
    "If n is evenly divisible by 10, add inspiring to the sentence.\n",
    "\n",
    "Always end the string with \"number is\" n!\n",
    "\n",
    "* <b>Also write a function to find the lowest possible number which uses all the words</b>. "
   ]
  },
  {
   "cell_type": "raw",
   "id": "38a68504",
   "metadata": {},
   "source": [
    "describe_num(13) --> \"The most brilliant number is 13!\"\n",
    "# 13 is evenly divisble by 1 only\n",
    "\n",
    "describe_num(4) --> \"The most brilliant exciting virtuous number is 4!\"\n",
    "# 4 is evenly divisible by 1, 2 and 4\n",
    "\n",
    "describe_num(21) --> \"The most brilliant fantastic beautiful number is 21!\"\n",
    "# 21 is evenly divisible by 1, 3 and 7\n",
    "\n",
    "describe_num(60) --> \"The most brilliant exciting fantastic virtuous heart-warming tear-jerking inspiring number is 60!\"\n",
    "# 60 is evenly divisible by 1, 2, 3, 4, 5, 6 and 10\n",
    "\n",
    "#### 2nd part - \n",
    "\n",
    "lowest_num() -> 2520\n"
   ]
  },
  {
   "cell_type": "code",
   "execution_count": 97,
   "id": "43b7fccd",
   "metadata": {},
   "outputs": [],
   "source": [
    "## Write your code here\n",
    "\n",
    "def describe_num(n):\n",
    "    s='the most '\n",
    "    li=[]\n",
    "    for i in range(1,11):\n",
    "        a=n%i\n",
    "        if a==0:\n",
    "            li=li+[i]\n",
    "            if i==1:\n",
    "                s=s+'brilliant '\n",
    "            if i==2:\n",
    "                s=s+'exciting '\n",
    "            if i==3:\n",
    "                s=s+'fantastic '\n",
    "            if i==4:\n",
    "                s=s+'virtous '\n",
    "            if i==5:\n",
    "                s=s+'heart-warming '\n",
    "            if i==6:\n",
    "                s=s+'tear-jerking '\n",
    "            if i==7:\n",
    "                s=s+'beautiful '\n",
    "            if i==8:\n",
    "                s=s+'exhilerating '\n",
    "            if i==9:\n",
    "                s=s+'emotional '\n",
    "            if i==10:\n",
    "                s=s+'inspiring '\n",
    "            \n",
    "    s=s+ 'number is '+ str(n)+' !'\n",
    "    return(s)\n",
    "            "
   ]
  },
  {
   "cell_type": "code",
   "execution_count": 100,
   "id": "44fc81d1",
   "metadata": {},
   "outputs": [
    {
     "data": {
      "text/plain": [
       "'the most brilliant number is 13 !'"
      ]
     },
     "execution_count": 100,
     "metadata": {},
     "output_type": "execute_result"
    }
   ],
   "source": [
    "describe_num(13)"
   ]
  },
  {
   "cell_type": "code",
   "execution_count": 101,
   "id": "81794cab",
   "metadata": {},
   "outputs": [
    {
     "data": {
      "text/plain": [
       "'the most brilliant exciting virtous number is 4 !'"
      ]
     },
     "execution_count": 101,
     "metadata": {},
     "output_type": "execute_result"
    }
   ],
   "source": [
    "describe_num(4)"
   ]
  },
  {
   "cell_type": "code",
   "execution_count": 102,
   "id": "d92792a8",
   "metadata": {},
   "outputs": [
    {
     "data": {
      "text/plain": [
       "'the most brilliant fantastic beautiful number is 21 !'"
      ]
     },
     "execution_count": 102,
     "metadata": {},
     "output_type": "execute_result"
    }
   ],
   "source": [
    "describe_num(21)"
   ]
  },
  {
   "cell_type": "code",
   "execution_count": 103,
   "id": "4b693d2e",
   "metadata": {},
   "outputs": [
    {
     "data": {
      "text/plain": [
       "'the most brilliant exciting fantastic virtous heart-warming tear-jerking inspiring number is 60 !'"
      ]
     },
     "execution_count": 103,
     "metadata": {},
     "output_type": "execute_result"
    }
   ],
   "source": [
    "describe_num(60)"
   ]
  },
  {
   "cell_type": "code",
   "execution_count": 116,
   "id": "78595d5b",
   "metadata": {},
   "outputs": [],
   "source": [
    "def smallest_num():\n",
    "    \n",
    "    for n in range(0,3000):\n",
    "        if n%1==0 and n%2==0 and n%3==0 and n%4==0 and n%5==0 and n%6==0 and n%7==0 and  n%8==0 and n%9==0 and n%10==0 and n!=0:\n",
    "            \n",
    "            print(n)\n",
    "    "
   ]
  },
  {
   "cell_type": "code",
   "execution_count": 117,
   "id": "5759d657",
   "metadata": {},
   "outputs": [
    {
     "name": "stdout",
     "output_type": "stream",
     "text": [
      "2520\n"
     ]
    }
   ],
   "source": [
    "smallest_num()\n"
   ]
  },
  {
   "cell_type": "code",
   "execution_count": null,
   "id": "8d42ff62",
   "metadata": {},
   "outputs": [],
   "source": []
  },
  {
   "cell_type": "code",
   "execution_count": null,
   "id": "ec615002",
   "metadata": {},
   "outputs": [],
   "source": []
  },
  {
   "cell_type": "code",
   "execution_count": null,
   "id": "9d95ca33",
   "metadata": {},
   "outputs": [],
   "source": []
  }
 ],
 "metadata": {
  "kernelspec": {
   "display_name": "Python 3 (ipykernel)",
   "language": "python",
   "name": "python3"
  },
  "language_info": {
   "codemirror_mode": {
    "name": "ipython",
    "version": 3
   },
   "file_extension": ".py",
   "mimetype": "text/x-python",
   "name": "python",
   "nbconvert_exporter": "python",
   "pygments_lexer": "ipython3",
   "version": "3.10.9"
  }
 },
 "nbformat": 4,
 "nbformat_minor": 5
}
