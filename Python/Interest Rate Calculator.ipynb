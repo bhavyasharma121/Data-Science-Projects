{
 "cells": [
  {
   "cell_type": "code",
   "execution_count": null,
   "id": "11df07e9",
   "metadata": {},
   "outputs": [],
   "source": [
    "def main():\n",
    "    print(\" This is a monthly payment loan calculator \")\n",
    "    print(\"\")\n",
    "    \n",
    "    principal = float(input(\"Input the loan amount: \"))\n",
    "    apr = float(input(\"Input the annual interest rate: \"))\n",
    "    years = int(input(\"Input amount of years: \"))\n",
    "    \n",
    "    monthly_interest_rate = apr / 1200\n",
    "    amount_of_months = years * 12\n",
    "    monthly_payment = principal * monthly_interest_rate / (1 - (1 + monthly_interest_rate) ** (-amount_of_months))\n",
    "    \n",
    "    print(\" The monthly payment for this loan is: %.2f \" % monthly_payment)\n",
    "\n",
    "main()"
   ]
  }
 ],
 "metadata": {
  "kernelspec": {
   "display_name": "Python 3 (ipykernel)",
   "language": "python",
   "name": "python3"
  },
  "language_info": {
   "codemirror_mode": {
    "name": "ipython",
    "version": 3
   },
   "file_extension": ".py",
   "mimetype": "text/x-python",
   "name": "python",
   "nbconvert_exporter": "python",
   "pygments_lexer": "ipython3",
   "version": "3.10.9"
  }
 },
 "nbformat": 4,
 "nbformat_minor": 5
}
