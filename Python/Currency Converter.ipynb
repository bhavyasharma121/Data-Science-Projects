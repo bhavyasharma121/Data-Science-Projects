{
 "cells": [
  {
   "cell_type": "code",
   "execution_count": null,
   "id": "cff6e56f",
   "metadata": {},
   "outputs": [],
   "source": [
    "def main():\n",
    "    print(\"This program converts US dollars to Pounds Sterling\")\n",
    "    print()\n",
    "\n",
    "    dollars = eval(input(\"Enter amount in dollars: \"))\n",
    "\n",
    "    pounds = convert_to_pounds(dollars)\n",
    "\n",
    "    print(\"That is\" , pounds, \"pounds. \")\n",
    "\n",
    "convert_to_pounds = lambda dollars: dollars * 0.82\n",
    "\n",
    "main()"
   ]
  }
 ],
 "metadata": {
  "kernelspec": {
   "display_name": "Python 3 (ipykernel)",
   "language": "python",
   "name": "python3"
  },
  "language_info": {
   "codemirror_mode": {
    "name": "ipython",
    "version": 3
   },
   "file_extension": ".py",
   "mimetype": "text/x-python",
   "name": "python",
   "nbconvert_exporter": "python",
   "pygments_lexer": "ipython3",
   "version": "3.10.9"
  }
 },
 "nbformat": 4,
 "nbformat_minor": 5
}
