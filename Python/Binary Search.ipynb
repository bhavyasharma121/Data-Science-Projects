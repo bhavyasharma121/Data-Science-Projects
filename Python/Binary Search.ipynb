{
 "cells": [
  {
   "cell_type": "code",
   "execution_count": null,
   "id": "633f3b46",
   "metadata": {},
   "outputs": [],
   "source": [
    "def binary_search(list, element):\n",
    "    middle = 0\n",
    "    start = 0\n",
    "    end = len(list)\n",
    "    steps = 0\n",
    "    \n",
    "    while(start<=end):\n",
    "        print(\"Step\", steps, \":\" ,str(list[start:end+1]))\n",
    "        steps = steps+1\n",
    "        middle = (start + end) // 2\n",
    "        \n",
    "        if element == list[middle] :\n",
    "            return middle\n",
    "        if element < list[middle]:\n",
    "            end = middle -1\n",
    "        else:\n",
    "            start = middle + 1\n",
    "\n",
    "    return -1\n",
    "\n",
    "\n",
    "my_list = [1,2,3,4,5,6,7,8,9,10,11,12]\n",
    "target = 12\n",
    "\n",
    "binary_search(my_list, target)"
   ]
  }
 ],
 "metadata": {
  "kernelspec": {
   "display_name": "Python 3 (ipykernel)",
   "language": "python",
   "name": "python3"
  },
  "language_info": {
   "codemirror_mode": {
    "name": "ipython",
    "version": 3
   },
   "file_extension": ".py",
   "mimetype": "text/x-python",
   "name": "python",
   "nbconvert_exporter": "python",
   "pygments_lexer": "ipython3",
   "version": "3.10.9"
  }
 },
 "nbformat": 4,
 "nbformat_minor": 5
}
