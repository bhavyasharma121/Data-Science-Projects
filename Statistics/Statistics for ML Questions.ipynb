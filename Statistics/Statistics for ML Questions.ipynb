{
 "cells": [
  {
   "cell_type": "markdown",
   "metadata": {
    "id": "6imy92Ur-z2d"
   },
   "source": [
    "# STATISTICS FINAL EXAM\n",
    "\n",
    "### Total Marks : 70\n",
    "### Time - 3 Hours\n"
   ]
  },
  {
   "cell_type": "markdown",
   "metadata": {},
   "source": [
    "# SECTION A: 20 MARKS"
   ]
  },
  {
   "cell_type": "markdown",
   "metadata": {},
   "source": [
    "### Q1).A sample of 525 random variable is considered , a sample mean of 50 with std of 2 was obtained. Determine the confidence interval with a confidence level of 95% for the population mean. ( 5 marks )"
   ]
  },
  {
   "cell_type": "code",
   "execution_count": 163,
   "metadata": {},
   "outputs": [
    {
     "data": {
      "text/plain": [
       "(49.82892031774205, 50.17107968225795)"
      ]
     },
     "execution_count": 163,
     "metadata": {},
     "output_type": "execute_result"
    }
   ],
   "source": [
    "n=525\n",
    "xbar=50\n",
    "sigma=2\n",
    "se=sigma/np.sqrt(n)\n",
    "stats.norm.interval(0.95,50,se)"
   ]
  },
  {
   "cell_type": "code",
   "execution_count": 164,
   "metadata": {},
   "outputs": [],
   "source": [
    "## the confidence interval is between 49 and 50"
   ]
  },
  {
   "cell_type": "markdown",
   "metadata": {},
   "source": [
    "### Q2) The blood pressure in a randomly selected individual is normally distributed with mean value of 86 and standard deviation of 0.7.  ( 5 marks )\n",
    "\n",
    "What is the probability that the blood pressure for a randomly selected individual will be:\n",
    "\n",
    "(a) between 85 and 99 ( 2 marks )\n",
    "\n",
    "(b) less than 88 ( 1.5 marks )\n",
    "\n",
    "(c) greater than 90.5 ( 1.5 marks )\n",
    "\n"
   ]
  },
  {
   "cell_type": "code",
   "execution_count": 165,
   "metadata": {},
   "outputs": [
    {
     "data": {
      "text/plain": [
       "0.9234362744901652"
      ]
     },
     "execution_count": 165,
     "metadata": {},
     "output_type": "execute_result"
    }
   ],
   "source": [
    "mu=86\n",
    "sigma=0.7\n",
    "a=stats.norm.cdf(99,mu,sigma)\n",
    "b=stats.norm.cdf(85,mu,sigma)\n",
    "a-b"
   ]
  },
  {
   "cell_type": "code",
   "execution_count": 166,
   "metadata": {},
   "outputs": [],
   "source": [
    "## 92% peopke are between 85 and 99"
   ]
  },
  {
   "cell_type": "code",
   "execution_count": 167,
   "metadata": {},
   "outputs": [
    {
     "data": {
      "text/plain": [
       "0.9978626330199137"
      ]
     },
     "execution_count": 167,
     "metadata": {},
     "output_type": "execute_result"
    }
   ],
   "source": [
    "## b part\n",
    "\n",
    "stats.norm.cdf(88,mu,sigma)\n"
   ]
  },
  {
   "cell_type": "code",
   "execution_count": 168,
   "metadata": {},
   "outputs": [],
   "source": [
    "## 9% people are less than 88"
   ]
  },
  {
   "cell_type": "code",
   "execution_count": 169,
   "metadata": {},
   "outputs": [
    {
     "data": {
      "text/plain": [
       "6.440437072541272e-11"
      ]
     },
     "execution_count": 169,
     "metadata": {},
     "output_type": "execute_result"
    }
   ],
   "source": [
    "## c part\n",
    "1-stats.norm.cdf(90.5,mu,sigma)"
   ]
  },
  {
   "cell_type": "code",
   "execution_count": 170,
   "metadata": {},
   "outputs": [],
   "source": [
    "## a very small number is over 90.5"
   ]
  },
  {
   "cell_type": "markdown",
   "metadata": {},
   "source": [
    "### Q3) Eating habits of the people has been drastically changed in last 20 years, the consumption of frozen / Junk foods has increased drastically high. A company promoting healthy/Organic food has started a 21 day food challenge claims that the people who follow a healthy diet are more likely to have a better/happy mindset.(Consider 5% significance level). From the Happiness index values of the individuals given below test whether the changing to healthy food diet have any significance impact on happiness index or not? (10 marks)\n",
    "\n",
    "Before_challenge =[2.0,2.9,1.0,0.1,4.6,3.9,0.4,2.4,4.5,3.3,6.1,1.5,1.2,5.7,6.0,6.4,5.9,3.5,3.7,4.6,2.0,3.3,2.9,1.2,6.4,5.9] \n",
    "After_challenge = [4.5,6,6,3.4,7,4,6,5.3,5.2,7.3,7,3.6,2.8,4,5,6,5.1,5.4,5.7,6.1,3.8,4.2,3.6,5.1,4.8,6.1]\n",
    "\n",
    "i) Create the Hypothesis (2 marks)\n",
    "\n",
    "ii) Check for data Normality.( 2 marks ) \n",
    "\n",
    "iii) Determine the Statistical Test and give the reason for the selection of the test.(2 mark)\n",
    "\n",
    "iv) Find the test statistics and pvalue. ( 2 marks)\n",
    "\n",
    "v) Interpret the Results(2 marks)\n",
    "\n"
   ]
  },
  {
   "cell_type": "markdown",
   "metadata": {},
   "source": [
    "**Note: Assume data is normally distributed and have equal variance.**"
   ]
  },
  {
   "cell_type": "code",
   "execution_count": 171,
   "metadata": {},
   "outputs": [],
   "source": [
    "Before_challenge =[2.0,2.9,1.0,0.1,4.6,3.9,0.4,2.4,4.5,3.3,6.1,1.5,1.2,5.7,6.0,6.4,5.9,3.5,3.7,4.6,2.0,3.3,2.9,1.2,6.4,5.9]"
   ]
  },
  {
   "cell_type": "code",
   "execution_count": 172,
   "metadata": {},
   "outputs": [],
   "source": [
    "After_challenge = [4.5,6,6,3.4,7,4,6,5.3,5.2,7.3,7,3.6,2.8,4,5,6,5.1,5.4,5.7,6.1,3.8,4.2,3.6,5.1,4.8,6.1]"
   ]
  },
  {
   "cell_type": "markdown",
   "metadata": {},
   "source": [
    "## a part - \n",
    "* hypothesis- ho- the change in diet had no impact\n",
    "* ha- the change in diet had impact\n"
   ]
  },
  {
   "cell_type": "code",
   "execution_count": 173,
   "metadata": {},
   "outputs": [
    {
     "data": {
      "text/plain": [
       "ShapiroResult(statistic=0.941680908203125, pvalue=0.14731617271900177)"
      ]
     },
     "execution_count": 173,
     "metadata": {},
     "output_type": "execute_result"
    }
   ],
   "source": [
    "## b part\n",
    "## checking for normality\n",
    "## ho- data is not normal\n",
    "## ha= data is normal\n",
    "stats.shapiro(Before_challenge)"
   ]
  },
  {
   "cell_type": "code",
   "execution_count": 174,
   "metadata": {},
   "outputs": [
    {
     "data": {
      "text/plain": [
       "ShapiroResult(statistic=0.9687718152999878, pvalue=0.591731071472168)"
      ]
     },
     "execution_count": 174,
     "metadata": {},
     "output_type": "execute_result"
    }
   ],
   "source": [
    "stats.shapiro(After_challenge)"
   ]
  },
  {
   "cell_type": "code",
   "execution_count": 179,
   "metadata": {},
   "outputs": [],
   "source": [
    "## data is normal - before challenge"
   ]
  },
  {
   "cell_type": "code",
   "execution_count": 176,
   "metadata": {},
   "outputs": [],
   "source": [
    "## we will use related t test because we have to check the relation of 2 columns here"
   ]
  },
  {
   "cell_type": "code",
   "execution_count": 180,
   "metadata": {},
   "outputs": [],
   "source": [
    "## null hypothesis- ho- the diet plan has no impact, hence the 2 data are not related\n",
    "## alternate hypothesis- the diet plan has impact and hence "
   ]
  },
  {
   "cell_type": "code",
   "execution_count": 181,
   "metadata": {},
   "outputs": [
    {
     "data": {
      "text/plain": [
       "Ttest_relResult(statistic=-4.255189496323183, pvalue=0.0002566761204890711)"
      ]
     },
     "execution_count": 181,
     "metadata": {},
     "output_type": "execute_result"
    }
   ],
   "source": [
    "stats.ttest_rel(Before_challenge,After_challenge)"
   ]
  },
  {
   "cell_type": "code",
   "execution_count": 182,
   "metadata": {},
   "outputs": [],
   "source": [
    "## e part- interpretetation\n",
    "## ## p value is smaller , so we have to reject the null hypothesis, hence the challenge had impact"
   ]
  },
  {
   "cell_type": "markdown",
   "metadata": {},
   "source": [
    "# SECTION B: 20 MARKS"
   ]
  },
  {
   "cell_type": "markdown",
   "metadata": {},
   "source": [
    " _________________"
   ]
  },
  {
   "cell_type": "markdown",
   "metadata": {},
   "source": [
    "### Q4)Students from Sports category in XLR University, have a long-term graduation  score of 65. Over the past several years, a random sample of 38 students at the college showed that their average score is 63.  Does this mean that the population score of students who graduate from the XLR university is now less than 65?  Assume that the average graduation rate have a normal distribution with the population standard deviation of 1.3. Use a 5% level of significance.( 5 marks ) \n",
    "\n",
    "A.Frame Null and Alternate Hypothesis ( 1 Mark)\n",
    "\n",
    "B.State which tail test to be performed (1 Mark)\n",
    "\n",
    "C.Find the test statistic (2 Mark)\n",
    "\n",
    "D.Interpret the results (1 Mark)\n",
    "\n"
   ]
  },
  {
   "cell_type": "code",
   "execution_count": 183,
   "metadata": {},
   "outputs": [],
   "source": [
    "## ho-null hypothesis- the score is not less than 65\n",
    "## ha- the score is less than 65\n",
    "## left tail test"
   ]
  },
  {
   "cell_type": "code",
   "execution_count": 184,
   "metadata": {},
   "outputs": [],
   "source": [
    "n=38\n",
    "xbar=63\n",
    "mu=65\n",
    "sigma=1.3\n",
    "alpha=0.05\n",
    "se=sigma/np.sqrt(n)"
   ]
  },
  {
   "cell_type": "code",
   "execution_count": 185,
   "metadata": {},
   "outputs": [
    {
     "data": {
      "text/plain": [
       "1.9599639845400545"
      ]
     },
     "execution_count": 185,
     "metadata": {},
     "output_type": "execute_result"
    }
   ],
   "source": [
    "z_crit=stats.norm.isf(0.025)\n",
    "z_crit"
   ]
  },
  {
   "cell_type": "code",
   "execution_count": 186,
   "metadata": {},
   "outputs": [],
   "source": [
    "zstat=(xbar-mu)/se"
   ]
  },
  {
   "cell_type": "code",
   "execution_count": 187,
   "metadata": {},
   "outputs": [
    {
     "data": {
      "text/plain": [
       "-9.483713850721502"
      ]
     },
     "execution_count": 187,
     "metadata": {},
     "output_type": "execute_result"
    }
   ],
   "source": [
    "zstat"
   ]
  },
  {
   "cell_type": "code",
   "execution_count": 188,
   "metadata": {},
   "outputs": [
    {
     "data": {
      "text/plain": [
       "1.2269520958093982e-21"
      ]
     },
     "execution_count": 188,
     "metadata": {},
     "output_type": "execute_result"
    }
   ],
   "source": [
    "stats.norm.cdf(zstat) ## p value"
   ]
  },
  {
   "cell_type": "code",
   "execution_count": 189,
   "metadata": {},
   "outputs": [],
   "source": [
    "## p value is lesser\n",
    "## than alpha so we have to reject the null hypothesis"
   ]
  },
  {
   "cell_type": "code",
   "execution_count": null,
   "metadata": {},
   "outputs": [],
   "source": []
  },
  {
   "cell_type": "markdown",
   "metadata": {},
   "source": [
    "### Q5). Assume that the 8 wheel load carrying transport vehicle follow a normal distribution with mean load of 12 tonnes and standard deviation 1.2 tonnes, The maximum allowed load in a 8 wheeler according to the government regulations is 13.5 tonnes anything beyond the acceptable limit the governmnet charges huge penalties to the vehicle owners. (5 Marks )\n",
    "\n",
    "a)\tDetermine what percentage of vehicles will pay the penalty?(1 mark)\n",
    "\n",
    "b) If the limit of allowed load is decreased to 13 tonnes, what percentage of vehicles do not pay the penalty? (2 marks) \n",
    "\n",
    "c) What should be the load limit that atleast 5% of the vehicles will face penalties? (2 marks)\n",
    "\n"
   ]
  },
  {
   "cell_type": "code",
   "execution_count": 190,
   "metadata": {},
   "outputs": [
    {
     "data": {
      "text/plain": [
       "0.10564977366685535"
      ]
     },
     "execution_count": 190,
     "metadata": {},
     "output_type": "execute_result"
    }
   ],
   "source": [
    "mu=12\n",
    "sigma=1.2\n",
    "1-stats.norm.cdf(13.5,mu,sigma)"
   ]
  },
  {
   "cell_type": "code",
   "execution_count": 191,
   "metadata": {},
   "outputs": [],
   "source": [
    "## there is an 10.56 % probability that the 8 wheeler vehicle will pay the penalty"
   ]
  },
  {
   "cell_type": "code",
   "execution_count": 192,
   "metadata": {},
   "outputs": [
    {
     "data": {
      "text/plain": [
       "0.20232838096364314"
      ]
     },
     "execution_count": 192,
     "metadata": {},
     "output_type": "execute_result"
    }
   ],
   "source": [
    "## lets check on 13 tonnes\n",
    "1-stats.norm.cdf(13,mu,sigma)"
   ]
  },
  {
   "cell_type": "code",
   "execution_count": 193,
   "metadata": {},
   "outputs": [],
   "source": [
    "## now , just above 20% of the vehicles willpay the penaly"
   ]
  },
  {
   "cell_type": "code",
   "execution_count": 194,
   "metadata": {},
   "outputs": [
    {
     "data": {
      "text/plain": [
       "(11.148043218551935, 15.851956781448065)"
      ]
     },
     "execution_count": 194,
     "metadata": {},
     "output_type": "execute_result"
    }
   ],
   "source": [
    "## c part-\n",
    "stats.norm.interval(0.95,13.5,1.2)"
   ]
  },
  {
   "cell_type": "code",
   "execution_count": 195,
   "metadata": {},
   "outputs": [],
   "source": [
    "## load limit should be 15.85 to have atleast 5% people pay the penalty"
   ]
  },
  {
   "cell_type": "markdown",
   "metadata": {},
   "source": [
    "### Q6). The Stress Levels of Employees working in 3 different shifts has been recorded, From the data given below test whether the stress levels of the employees working among different shifts is significantly different or not? (Conisder 5% significance level)  (10 marks)\n",
    "\n",
    "\n",
    "| Morning Shift (6am to 2pm) | Afternoon Shift(2pm to 10pm)| Night Shift(10pm - 6am)|\n",
    "|---|---|---|\n",
    "|6|2|8|\n",
    "|7|3|9|\n",
    "|6|4|5|\n",
    "|6|3|8|\n",
    "|7|2|4|\n",
    "|5|3|7|\n",
    "|3|1|5|\n",
    "|2|1|8|\n",
    "|5|3|6|\n",
    "|4|7|8|\n",
    "|2|3|6|\n",
    "|2|2|6|\n",
    "|5|1|7|\n",
    "|6||7|\n",
    "|2||6|\n",
    "|||11|\n",
    "|||13|\n",
    "\n",
    "\n",
    "i) Create the Hypothesis (2 marks)\n",
    "\n",
    "iI) Determine the Statistical Test and give the reason for the selection of the test.(1 mark)\n",
    "\n",
    "iii) Find the test statistics and pvalue.(2 marks)\n",
    "\n",
    "v) Interpret the Results(2 marks)\n",
    "\n",
    "v) Find whether stress levels are different. If it is different, find which shift is different.\n",
    "(3 marks)\n"
   ]
  },
  {
   "cell_type": "markdown",
   "metadata": {},
   "source": [
    "**Note: Assume data is normally distributed and have equal variance.**"
   ]
  },
  {
   "cell_type": "code",
   "execution_count": 196,
   "metadata": {},
   "outputs": [],
   "source": [
    "a=[6,7,6,6,7,5,3,2,5,4,2,2,5,6,2]\n",
    "b=[2,3,4,3,2,3,1,1,3,7,3,2,1]\n",
    "c=[8,9,5,8,4,7,5,8,6,8,6,6,7,7,6,11,13]"
   ]
  },
  {
   "cell_type": "code",
   "execution_count": 197,
   "metadata": {},
   "outputs": [],
   "source": [
    "## null-all shifts have same impact\n",
    "## alt- atleast one shift has different impact"
   ]
  },
  {
   "cell_type": "code",
   "execution_count": 198,
   "metadata": {},
   "outputs": [],
   "source": [
    "test=stats.f_oneway(a,b,c)"
   ]
  },
  {
   "cell_type": "code",
   "execution_count": 199,
   "metadata": {},
   "outputs": [
    {
     "data": {
      "text/plain": [
       "21.24239122648942"
      ]
     },
     "execution_count": 199,
     "metadata": {},
     "output_type": "execute_result"
    }
   ],
   "source": [
    "test[0] ## test stat"
   ]
  },
  {
   "cell_type": "code",
   "execution_count": 200,
   "metadata": {},
   "outputs": [
    {
     "data": {
      "text/plain": [
       "4.225584647967872e-07"
      ]
     },
     "execution_count": 200,
     "metadata": {},
     "output_type": "execute_result"
    }
   ],
   "source": [
    "test[1] ## pvalue"
   ]
  },
  {
   "cell_type": "code",
   "execution_count": 201,
   "metadata": {},
   "outputs": [],
   "source": [
    "## one way anova is not working here , so we have to use post hoc test"
   ]
  },
  {
   "cell_type": "code",
   "execution_count": 202,
   "metadata": {},
   "outputs": [],
   "source": [
    "data=pd.DataFrame({'Morning_Shift':[6,7,6,6,7,5,3,2,5,4,2,2,5,6,2,np.NaN,np.NaN]\n",
    "             ,'Evening_Shift':[2,3,4,3,2,3,1,1,3,7,3,2,1,np.NaN,np.NaN,np.NaN,np.NaN]\n",
    "             ,'Night_Shift':[8,9,5,8,4,7,5,8,6,8,6,6,7,7,6,11,13]})"
   ]
  },
  {
   "cell_type": "code",
   "execution_count": 203,
   "metadata": {},
   "outputs": [],
   "source": [
    "Morning_Shift=[6,7,6,6,7,5,3,2,5,4,2,2,5,6,2,0,0]\n",
    "Evening_Shift=[2,3,4,3,2,3,1,1,3,7,3,2,1,0,0,0,0]\n",
    "Night_Shift=[8,9,5,8,4,7,5,8,6,8,6,6,7,7,6,11,13]"
   ]
  },
  {
   "cell_type": "code",
   "execution_count": 204,
   "metadata": {},
   "outputs": [],
   "source": [
    "import statsmodels.stats.multicomp as multi_comp\n",
    "analysis=multi_comp.MultiComparison(Morning_Shift,Evening_Shift)"
   ]
  },
  {
   "cell_type": "code",
   "execution_count": 205,
   "metadata": {},
   "outputs": [
    {
     "name": "stdout",
     "output_type": "stream",
     "text": [
      " Multiple Comparison of Means - Tukey HSD, FWER=0.05 \n",
      "=====================================================\n",
      "group1 group2 meandiff p-adj   lower    upper  reject\n",
      "-----------------------------------------------------\n",
      "     0      1   1.3333    0.9  -4.5796  7.2463  False\n",
      "     0      2      3.0 0.5378   -2.913   8.913  False\n",
      "     0      3      3.0 0.4157  -2.1934  8.1934  False\n",
      "     0      4      4.0 0.6168  -4.6557 12.6557  False\n",
      "     0      7      2.0    0.9  -6.6557 10.6557  False\n",
      "     1      2   1.6667    0.9  -4.6545  7.9879  False\n",
      "     1      3   1.6667    0.9  -3.9872  7.3205  False\n",
      "     1      4   2.6667    0.9  -6.2729 11.6062  False\n",
      "     1      7   0.6667    0.9  -8.2729  9.6062  False\n",
      "     2      3      0.0    0.9  -5.6539  5.6539  False\n",
      "     2      4      1.0    0.9  -7.9395  9.9395  False\n",
      "     2      7     -1.0    0.9  -9.9395  7.9395  False\n",
      "     3      4      1.0    0.9  -7.4808  9.4808  False\n",
      "     3      7     -1.0    0.9  -9.4808  7.4808  False\n",
      "     4      7     -2.0    0.9 -12.9487  8.9487  False\n",
      "-----------------------------------------------------\n"
     ]
    }
   ],
   "source": [
    "print(analysis.tukeyhsd())"
   ]
  },
  {
   "cell_type": "code",
   "execution_count": 206,
   "metadata": {},
   "outputs": [
    {
     "name": "stdout",
     "output_type": "stream",
     "text": [
      " Multiple Comparison of Means - Tukey HSD, FWER=0.05 \n",
      "=====================================================\n",
      "group1 group2 meandiff p-adj   lower    upper  reject\n",
      "-----------------------------------------------------\n",
      "     4      5     -2.5 0.8809 -10.0075  5.0075  False\n",
      "     4      6    -4.25 0.3483 -11.1034  2.6034  False\n",
      "     4      7  -1.6667    0.9  -8.7448  5.4115  False\n",
      "     4      8     -2.5 0.8208  -9.3534  4.3534  False\n",
      "     4      9      0.0    0.9  -8.6689  8.6689  False\n",
      "     4     11     -7.0 0.1379 -15.6689  1.6689  False\n",
      "     4     13     -7.0 0.1379 -15.6689  1.6689  False\n",
      "     5      6    -1.75 0.8872  -7.0586  3.5586  False\n",
      "     5      7   0.8333    0.9  -4.7624  6.4291  False\n",
      "     5      8      0.0    0.9  -5.3086  5.3086  False\n",
      "     5      9      2.5 0.8809  -5.0075 10.0075  False\n",
      "     5     11     -4.5  0.383 -12.0075  3.0075  False\n",
      "     5     13     -4.5  0.383 -12.0075  3.0075  False\n",
      "     6      7   2.5833 0.4686  -2.0984  7.2651  False\n",
      "     6      8     1.75 0.7472  -2.5845  6.0845  False\n",
      "     6      9     4.25 0.3483  -2.6034 11.1034  False\n",
      "     6     11    -2.75 0.7519  -9.6034  4.1034  False\n",
      "     6     13    -2.75 0.7519  -9.6034  4.1034  False\n",
      "     7      8  -0.8333    0.9  -5.5151  3.8484  False\n",
      "     7      9   1.6667    0.9  -5.4115  8.7448  False\n",
      "     7     11  -5.3333 0.1822 -12.4115  1.7448  False\n",
      "     7     13  -5.3333 0.1822 -12.4115  1.7448  False\n",
      "     8      9      2.5 0.8208  -4.3534  9.3534  False\n",
      "     8     11     -4.5 0.2938 -11.3534  2.3534  False\n",
      "     8     13     -4.5 0.2938 -11.3534  2.3534  False\n",
      "     9     11     -7.0 0.1379 -15.6689  1.6689  False\n",
      "     9     13     -7.0 0.1379 -15.6689  1.6689  False\n",
      "    11     13      0.0    0.9  -8.6689  8.6689  False\n",
      "-----------------------------------------------------\n"
     ]
    }
   ],
   "source": [
    "analysis=multi_comp.MultiComparison(Morning_Shift,Night_Shift)\n",
    "print(analysis.tukeyhsd())"
   ]
  },
  {
   "cell_type": "code",
   "execution_count": 207,
   "metadata": {},
   "outputs": [
    {
     "name": "stdout",
     "output_type": "stream",
     "text": [
      " Multiple Comparison of Means - Tukey HSD, FWER=0.05 \n",
      "=====================================================\n",
      "group1 group2 meandiff p-adj   lower    upper  reject\n",
      "-----------------------------------------------------\n",
      "     4      5      0.5    0.9  -8.8987  9.8987  False\n",
      "     4      6      0.0    0.9  -8.5798  8.5798  False\n",
      "     4      7  -0.6667    0.9  -9.5278  8.1945  False\n",
      "     4      8     1.25    0.9  -7.3298  9.8298  False\n",
      "     4      9      1.0    0.9  -9.8527 11.8527  False\n",
      "     4     11     -2.0    0.9 -12.8527  8.8527  False\n",
      "     4     13     -2.0    0.9 -12.8527  8.8527  False\n",
      "     5      6     -0.5    0.9  -7.1459  6.1459  False\n",
      "     5      7  -1.1667    0.9   -8.172  5.8387  False\n",
      "     5      8     0.75    0.9  -5.8959  7.3959  False\n",
      "     5      9      0.5    0.9  -8.8987  9.8987  False\n",
      "     5     11     -2.5    0.9 -11.8987  6.8987  False\n",
      "     5     13     -2.5    0.9 -11.8987  6.8987  False\n",
      "     6      7  -0.6667    0.9  -6.5278  5.1944  False\n",
      "     6      8     1.25    0.9  -4.1763  6.6763  False\n",
      "     6      9      1.0    0.9  -7.5798  9.5798  False\n",
      "     6     11     -2.0    0.9 -10.5798  6.5798  False\n",
      "     6     13     -2.0    0.9 -10.5798  6.5798  False\n",
      "     7      8   1.9167 0.8922  -3.9444  7.7778  False\n",
      "     7      9   1.6667    0.9  -7.1945 10.5278  False\n",
      "     7     11  -1.3333    0.9 -10.1945  7.5278  False\n",
      "     7     13  -1.3333    0.9 -10.1945  7.5278  False\n",
      "     8      9    -0.25    0.9  -8.8298  8.3298  False\n",
      "     8     11    -3.25 0.7943 -11.8298  5.3298  False\n",
      "     8     13    -3.25 0.7943 -11.8298  5.3298  False\n",
      "     9     11     -3.0    0.9 -13.8527  7.8527  False\n",
      "     9     13     -3.0    0.9 -13.8527  7.8527  False\n",
      "    11     13      0.0    0.9 -10.8527 10.8527  False\n",
      "-----------------------------------------------------\n"
     ]
    }
   ],
   "source": [
    "analysis=multi_comp.MultiComparison(Evening_Shift,Night_Shift)\n",
    "print(analysis.tukeyhsd())"
   ]
  },
  {
   "cell_type": "markdown",
   "metadata": {},
   "source": [
    "# SECTION C: 30 MARKS"
   ]
  },
  {
   "cell_type": "markdown",
   "metadata": {},
   "source": [
    " _________________"
   ]
  },
  {
   "cell_type": "markdown",
   "metadata": {},
   "source": [
    "### Q7) A farmer who cultivates dragon fruits wanted to test the hypothesis that the production quantity(tonnes) of the fruits will be varying lot with respect to climate conditions. Below is the sample of production of dragon fruits season wise for last 10 years, use 5% significance level to test the farmers hypotheis. ( 5 marks) \n",
    "\n",
    "Winter_season = [8,7,6,6,7,9,8,11,9,8,14,11,14,18]\n",
    "\n",
    "summer_season = [5,7,8,5,6,4,5,7,8,7,3,4,5,6,7]"
   ]
  },
  {
   "cell_type": "markdown",
   "metadata": {},
   "source": [
    "**Note: Assume data is normally distributed and have equal variance.**"
   ]
  },
  {
   "cell_type": "code",
   "execution_count": 208,
   "metadata": {},
   "outputs": [],
   "source": [
    "Winter_season = [8,7,6,6,7,9,8,11,9,8,14,11,14,18]\n",
    "\n",
    "summer_season = [5,7,8,5,6,4,5,7,8,7,3,4,5,6,7]"
   ]
  },
  {
   "cell_type": "code",
   "execution_count": 209,
   "metadata": {},
   "outputs": [],
   "source": [
    "## null-ho- the quality does not depend on climate\n",
    "## ha- the quality does in fact , depends on climate"
   ]
  },
  {
   "cell_type": "code",
   "execution_count": 210,
   "metadata": {},
   "outputs": [],
   "source": [
    "import random"
   ]
  },
  {
   "cell_type": "code",
   "execution_count": 211,
   "metadata": {},
   "outputs": [],
   "source": [
    "a=random.sample(Winter_season,14)\n",
    "b=random.sample(summer_season,14)"
   ]
  },
  {
   "cell_type": "code",
   "execution_count": 212,
   "metadata": {},
   "outputs": [
    {
     "data": {
      "text/plain": [
       "Ttest_relResult(statistic=5.145165427148798, pvalue=0.00018825602708360986)"
      ]
     },
     "execution_count": 212,
     "metadata": {},
     "output_type": "execute_result"
    }
   ],
   "source": [
    "stats.ttest_rel(a,b)"
   ]
  },
  {
   "cell_type": "code",
   "execution_count": 213,
   "metadata": {},
   "outputs": [],
   "source": [
    "## since the p value is less than alpha , we reject the null hypothesis, hence the quality\n",
    " #depends upon season"
   ]
  },
  {
   "cell_type": "markdown",
   "metadata": {},
   "source": [
    "### Q8)Consider bank dataset to solve the below hypothesis.(Use p-value method with 95%confidence level)\n",
    "\n",
    "1. Does the education of an individual have any effect on term deposit? ( 5 marks) \n",
    "2. Does the age of an individual have any effect on term deposit? ( 5 marks) \n",
    "3. Individuals having personal loan are more likely to take a term deposit (Justify this claim)? ( 5 marks )\n",
    "4. Does employee_variance_rate effect on term deposit? ( 5 marks )\n",
    "5. Individuals who have defaulted their loans are more like not to take a term deposit (Justify this claim)? (5 marks)"
   ]
  },
  {
   "cell_type": "markdown",
   "metadata": {},
   "source": [
    "**Note: Assume data is normally distributed and have equal variance.**"
   ]
  },
  {
   "cell_type": "code",
   "execution_count": 214,
   "metadata": {},
   "outputs": [
    {
     "data": {
      "text/html": [
       "<div>\n",
       "<style scoped>\n",
       "    .dataframe tbody tr th:only-of-type {\n",
       "        vertical-align: middle;\n",
       "    }\n",
       "\n",
       "    .dataframe tbody tr th {\n",
       "        vertical-align: top;\n",
       "    }\n",
       "\n",
       "    .dataframe thead th {\n",
       "        text-align: right;\n",
       "    }\n",
       "</style>\n",
       "<table border=\"1\" class=\"dataframe\">\n",
       "  <thead>\n",
       "    <tr style=\"text-align: right;\">\n",
       "      <th></th>\n",
       "      <th>age</th>\n",
       "      <th>job</th>\n",
       "      <th>marital</th>\n",
       "      <th>education</th>\n",
       "      <th>Credit_default</th>\n",
       "      <th>housing</th>\n",
       "      <th>personal_loan</th>\n",
       "      <th>contact</th>\n",
       "      <th>month</th>\n",
       "      <th>day_of_week</th>\n",
       "      <th>...</th>\n",
       "      <th>campaign</th>\n",
       "      <th>pdays</th>\n",
       "      <th>previous</th>\n",
       "      <th>poutcome</th>\n",
       "      <th>emp_var_rate</th>\n",
       "      <th>cons_price_idx</th>\n",
       "      <th>cons_conf_idx</th>\n",
       "      <th>euribor3m</th>\n",
       "      <th>nr_employed</th>\n",
       "      <th>Term Deposit</th>\n",
       "    </tr>\n",
       "  </thead>\n",
       "  <tbody>\n",
       "    <tr>\n",
       "      <th>0</th>\n",
       "      <td>56</td>\n",
       "      <td>housemaid</td>\n",
       "      <td>married</td>\n",
       "      <td>basic.4y</td>\n",
       "      <td>no</td>\n",
       "      <td>no</td>\n",
       "      <td>no</td>\n",
       "      <td>telephone</td>\n",
       "      <td>may</td>\n",
       "      <td>mon</td>\n",
       "      <td>...</td>\n",
       "      <td>1</td>\n",
       "      <td>999</td>\n",
       "      <td>0</td>\n",
       "      <td>nonexistent</td>\n",
       "      <td>1.1</td>\n",
       "      <td>93.994</td>\n",
       "      <td>-36.4</td>\n",
       "      <td>4.857</td>\n",
       "      <td>5191.0</td>\n",
       "      <td>False</td>\n",
       "    </tr>\n",
       "    <tr>\n",
       "      <th>1</th>\n",
       "      <td>57</td>\n",
       "      <td>services</td>\n",
       "      <td>married</td>\n",
       "      <td>high.school</td>\n",
       "      <td>unknown</td>\n",
       "      <td>no</td>\n",
       "      <td>no</td>\n",
       "      <td>telephone</td>\n",
       "      <td>may</td>\n",
       "      <td>mon</td>\n",
       "      <td>...</td>\n",
       "      <td>1</td>\n",
       "      <td>999</td>\n",
       "      <td>0</td>\n",
       "      <td>nonexistent</td>\n",
       "      <td>1.1</td>\n",
       "      <td>93.994</td>\n",
       "      <td>-36.4</td>\n",
       "      <td>4.857</td>\n",
       "      <td>5191.0</td>\n",
       "      <td>False</td>\n",
       "    </tr>\n",
       "    <tr>\n",
       "      <th>2</th>\n",
       "      <td>37</td>\n",
       "      <td>services</td>\n",
       "      <td>married</td>\n",
       "      <td>high.school</td>\n",
       "      <td>no</td>\n",
       "      <td>yes</td>\n",
       "      <td>no</td>\n",
       "      <td>telephone</td>\n",
       "      <td>may</td>\n",
       "      <td>mon</td>\n",
       "      <td>...</td>\n",
       "      <td>1</td>\n",
       "      <td>999</td>\n",
       "      <td>0</td>\n",
       "      <td>nonexistent</td>\n",
       "      <td>1.1</td>\n",
       "      <td>93.994</td>\n",
       "      <td>-36.4</td>\n",
       "      <td>4.857</td>\n",
       "      <td>5191.0</td>\n",
       "      <td>False</td>\n",
       "    </tr>\n",
       "    <tr>\n",
       "      <th>3</th>\n",
       "      <td>40</td>\n",
       "      <td>admin.</td>\n",
       "      <td>married</td>\n",
       "      <td>basic.6y</td>\n",
       "      <td>no</td>\n",
       "      <td>no</td>\n",
       "      <td>no</td>\n",
       "      <td>telephone</td>\n",
       "      <td>may</td>\n",
       "      <td>mon</td>\n",
       "      <td>...</td>\n",
       "      <td>1</td>\n",
       "      <td>999</td>\n",
       "      <td>0</td>\n",
       "      <td>nonexistent</td>\n",
       "      <td>1.1</td>\n",
       "      <td>93.994</td>\n",
       "      <td>-36.4</td>\n",
       "      <td>4.857</td>\n",
       "      <td>5191.0</td>\n",
       "      <td>False</td>\n",
       "    </tr>\n",
       "    <tr>\n",
       "      <th>4</th>\n",
       "      <td>56</td>\n",
       "      <td>services</td>\n",
       "      <td>married</td>\n",
       "      <td>high.school</td>\n",
       "      <td>no</td>\n",
       "      <td>no</td>\n",
       "      <td>yes</td>\n",
       "      <td>telephone</td>\n",
       "      <td>may</td>\n",
       "      <td>mon</td>\n",
       "      <td>...</td>\n",
       "      <td>1</td>\n",
       "      <td>999</td>\n",
       "      <td>0</td>\n",
       "      <td>nonexistent</td>\n",
       "      <td>1.1</td>\n",
       "      <td>93.994</td>\n",
       "      <td>-36.4</td>\n",
       "      <td>4.857</td>\n",
       "      <td>5191.0</td>\n",
       "      <td>False</td>\n",
       "    </tr>\n",
       "  </tbody>\n",
       "</table>\n",
       "<p>5 rows × 21 columns</p>\n",
       "</div>"
      ],
      "text/plain": [
       "   age        job  marital    education Credit_default housing personal_loan  \\\n",
       "0   56  housemaid  married     basic.4y             no      no            no   \n",
       "1   57   services  married  high.school        unknown      no            no   \n",
       "2   37   services  married  high.school             no     yes            no   \n",
       "3   40     admin.  married     basic.6y             no      no            no   \n",
       "4   56   services  married  high.school             no      no           yes   \n",
       "\n",
       "     contact month day_of_week  ...  campaign  pdays  previous     poutcome  \\\n",
       "0  telephone   may         mon  ...         1    999         0  nonexistent   \n",
       "1  telephone   may         mon  ...         1    999         0  nonexistent   \n",
       "2  telephone   may         mon  ...         1    999         0  nonexistent   \n",
       "3  telephone   may         mon  ...         1    999         0  nonexistent   \n",
       "4  telephone   may         mon  ...         1    999         0  nonexistent   \n",
       "\n",
       "  emp_var_rate  cons_price_idx  cons_conf_idx  euribor3m  nr_employed  \\\n",
       "0          1.1          93.994          -36.4      4.857       5191.0   \n",
       "1          1.1          93.994          -36.4      4.857       5191.0   \n",
       "2          1.1          93.994          -36.4      4.857       5191.0   \n",
       "3          1.1          93.994          -36.4      4.857       5191.0   \n",
       "4          1.1          93.994          -36.4      4.857       5191.0   \n",
       "\n",
       "   Term Deposit  \n",
       "0         False  \n",
       "1         False  \n",
       "2         False  \n",
       "3         False  \n",
       "4         False  \n",
       "\n",
       "[5 rows x 21 columns]"
      ]
     },
     "execution_count": 214,
     "metadata": {},
     "output_type": "execute_result"
    }
   ],
   "source": [
    "import pandas as pd\n",
    "import numpy as np\n",
    "import scipy.stats as stats\n",
    "df = pd.read_csv('data_set.csv')\n",
    "df.head()"
   ]
  },
  {
   "cell_type": "code",
   "execution_count": 215,
   "metadata": {},
   "outputs": [
    {
     "data": {
      "text/plain": [
       "3.3051890144025054e-38"
      ]
     },
     "execution_count": 215,
     "metadata": {},
     "output_type": "execute_result"
    }
   ],
   "source": [
    "## ho- term deposit does not depend upon education\n",
    "## ha- term deposit infact depends upon education\n",
    "tab=pd.crosstab(df['education'],df['Term Deposit'])\n",
    "from scipy.stats import chi2_contingency \n",
    "stats.chi2_contingency(tab)[1] "
   ]
  },
  {
   "cell_type": "code",
   "execution_count": 216,
   "metadata": {},
   "outputs": [],
   "source": [
    "## the p value is less than alpha , hence we have to reject the null hypothesis and hence education\n",
    "## has an impact "
   ]
  },
  {
   "cell_type": "code",
   "execution_count": 217,
   "metadata": {},
   "outputs": [],
   "source": [
    "df['Term_Deposit']=df['Term Deposit']"
   ]
  },
  {
   "cell_type": "code",
   "execution_count": 218,
   "metadata": {},
   "outputs": [
    {
     "data": {
      "text/html": [
       "<div>\n",
       "<style scoped>\n",
       "    .dataframe tbody tr th:only-of-type {\n",
       "        vertical-align: middle;\n",
       "    }\n",
       "\n",
       "    .dataframe tbody tr th {\n",
       "        vertical-align: top;\n",
       "    }\n",
       "\n",
       "    .dataframe thead th {\n",
       "        text-align: right;\n",
       "    }\n",
       "</style>\n",
       "<table border=\"1\" class=\"dataframe\">\n",
       "  <thead>\n",
       "    <tr style=\"text-align: right;\">\n",
       "      <th></th>\n",
       "      <th>df</th>\n",
       "      <th>sum_sq</th>\n",
       "      <th>mean_sq</th>\n",
       "      <th>F</th>\n",
       "      <th>PR(&gt;F)</th>\n",
       "    </tr>\n",
       "  </thead>\n",
       "  <tbody>\n",
       "    <tr>\n",
       "      <th>Term_Deposit</th>\n",
       "      <td>1.0</td>\n",
       "      <td>4.133451e+03</td>\n",
       "      <td>4133.450624</td>\n",
       "      <td>38.094659</td>\n",
       "      <td>6.802136e-10</td>\n",
       "    </tr>\n",
       "    <tr>\n",
       "      <th>Residual</th>\n",
       "      <td>41186.0</td>\n",
       "      <td>4.468876e+06</td>\n",
       "      <td>108.504727</td>\n",
       "      <td>NaN</td>\n",
       "      <td>NaN</td>\n",
       "    </tr>\n",
       "  </tbody>\n",
       "</table>\n",
       "</div>"
      ],
      "text/plain": [
       "                   df        sum_sq      mean_sq          F        PR(>F)\n",
       "Term_Deposit      1.0  4.133451e+03  4133.450624  38.094659  6.802136e-10\n",
       "Residual      41186.0  4.468876e+06   108.504727        NaN           NaN"
      ]
     },
     "execution_count": 218,
     "metadata": {},
     "output_type": "execute_result"
    }
   ],
   "source": [
    "## b part \n",
    "## ho- term deposit does not depend upon age\n",
    "## ha- term deposit infact depends upon age\n",
    "import statsmodels.formula.api as sma\n",
    "model=sma.ols('age~Term_Deposit',data=df).fit()\n",
    "from statsmodels.stats.anova import anova_lm\n",
    "anova_lm(model)"
   ]
  },
  {
   "cell_type": "code",
   "execution_count": 219,
   "metadata": {},
   "outputs": [],
   "source": [
    "## the p value is less than alpha , hence we reject to reject the null hypothesis, age has an impact"
   ]
  },
  {
   "cell_type": "code",
   "execution_count": 220,
   "metadata": {},
   "outputs": [
    {
     "data": {
      "text/plain": [
       "0.5786752870441754"
      ]
     },
     "execution_count": 220,
     "metadata": {},
     "output_type": "execute_result"
    }
   ],
   "source": [
    "## c part \n",
    "## ho- term deposit does not depend upon age\n",
    "## ha- term deposit infact depends upon age\n",
    "tab1=pd.crosstab(df['personal_loan'],df['Term Deposit'])\n",
    "stats.chi2_contingency(tab1)[1] "
   ]
  },
  {
   "cell_type": "code",
   "execution_count": 221,
   "metadata": {},
   "outputs": [],
   "source": [
    "## p value is greater than alpha , so we have failed to reject the null hypothesis"
   ]
  },
  {
   "cell_type": "code",
   "execution_count": 222,
   "metadata": {},
   "outputs": [
    {
     "data": {
      "text/html": [
       "<div>\n",
       "<style scoped>\n",
       "    .dataframe tbody tr th:only-of-type {\n",
       "        vertical-align: middle;\n",
       "    }\n",
       "\n",
       "    .dataframe tbody tr th {\n",
       "        vertical-align: top;\n",
       "    }\n",
       "\n",
       "    .dataframe thead th {\n",
       "        text-align: right;\n",
       "    }\n",
       "</style>\n",
       "<table border=\"1\" class=\"dataframe\">\n",
       "  <thead>\n",
       "    <tr style=\"text-align: right;\">\n",
       "      <th></th>\n",
       "      <th>df</th>\n",
       "      <th>sum_sq</th>\n",
       "      <th>mean_sq</th>\n",
       "      <th>F</th>\n",
       "      <th>PR(&gt;F)</th>\n",
       "    </tr>\n",
       "  </thead>\n",
       "  <tbody>\n",
       "    <tr>\n",
       "      <th>Term_Deposit</th>\n",
       "      <td>1.0</td>\n",
       "      <td>9046.842163</td>\n",
       "      <td>9046.842163</td>\n",
       "      <td>4023.829925</td>\n",
       "      <td>0.0</td>\n",
       "    </tr>\n",
       "    <tr>\n",
       "      <th>Residual</th>\n",
       "      <td>41186.0</td>\n",
       "      <td>92599.152609</td>\n",
       "      <td>2.248316</td>\n",
       "      <td>NaN</td>\n",
       "      <td>NaN</td>\n",
       "    </tr>\n",
       "  </tbody>\n",
       "</table>\n",
       "</div>"
      ],
      "text/plain": [
       "                   df        sum_sq      mean_sq            F  PR(>F)\n",
       "Term_Deposit      1.0   9046.842163  9046.842163  4023.829925     0.0\n",
       "Residual      41186.0  92599.152609     2.248316          NaN     NaN"
      ]
     },
     "execution_count": 222,
     "metadata": {},
     "output_type": "execute_result"
    }
   ],
   "source": [
    "## d part\n",
    "## ho- term deposit does not depend upon var rate\n",
    "## ha- term deposit infact depends upon var rate\n",
    "model=sma.ols('emp_var_rate\t~Term_Deposit',data=df).fit()\n",
    "anova_lm(model)"
   ]
  },
  {
   "cell_type": "code",
   "execution_count": 223,
   "metadata": {},
   "outputs": [],
   "source": [
    "## the p value is less than alpha , hence we have to reject the null hypothesis, and hence, var rate has an impact"
   ]
  },
  {
   "cell_type": "code",
   "execution_count": 224,
   "metadata": {},
   "outputs": [
    {
     "data": {
      "text/plain": [
       "5.1619579513916376e-89"
      ]
     },
     "execution_count": 224,
     "metadata": {},
     "output_type": "execute_result"
    }
   ],
   "source": [
    "## e part\n",
    "## ho- term deposit does not depend upon default\n",
    "## ha- term deposit infact depends upon default\n",
    "tab3=pd.crosstab(df['Credit_default'],df['Term Deposit'])\n",
    "stats.chi2_contingency(tab3)[1] "
   ]
  },
  {
   "cell_type": "code",
   "execution_count": 225,
   "metadata": {},
   "outputs": [],
   "source": [
    "## the p value is less than alpha , hence we have to reject the null hypothesis, so the defaulters have an impact on term deposit"
   ]
  },
  {
   "cell_type": "code",
   "execution_count": null,
   "metadata": {},
   "outputs": [],
   "source": []
  }
 ],
 "metadata": {
  "kernelspec": {
   "display_name": "Python 3",
   "language": "python",
   "name": "python3"
  },
  "language_info": {
   "codemirror_mode": {
    "name": "ipython",
    "version": 3
   },
   "file_extension": ".py",
   "mimetype": "text/x-python",
   "name": "python",
   "nbconvert_exporter": "python",
   "pygments_lexer": "ipython3",
   "version": "3.7.3"
  }
 },
 "nbformat": 4,
 "nbformat_minor": 4
}
