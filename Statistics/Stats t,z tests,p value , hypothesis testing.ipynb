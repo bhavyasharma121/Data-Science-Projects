{
 "cells": [
  {
   "cell_type": "code",
   "execution_count": 1,
   "metadata": {},
   "outputs": [],
   "source": [
    "import pandas as pd\n",
    "import numpy as np\n",
    "import matplotlib.pyplot as plt\n",
    "import seaborn as sns\n",
    "import scipy.stats as stats"
   ]
  },
  {
   "cell_type": "markdown",
   "metadata": {},
   "source": [
    "### About P Value\n",
    "\n",
    "* P Value is the probability of the H0 being correct given the test statistic.\n",
    "* If the PValue > Alpha, We can say that the results are not statistically significant meaning that we Fail to Reject the Ho.\n",
    "\n",
    "* If the PValue on the other hand, is less than Alpha, we say that the results are statistically significant and we Reject the Ho.\n",
    "\n",
    "* In other words, a smaller PValue means that there is a stronger evidence in the favour of Ha.\n",
    "\n",
    "* The lower the PValue, greater is the Statistical Significance and vice-versa."
   ]
  },
  {
   "cell_type": "markdown",
   "metadata": {},
   "source": [
    "The training institute Nature Learning claims that the students trained in their institute have overall better performance than the students trained in their competitor institute Speak Global Learning. We have a sample data of 500 students from each institute along with their **total score** collected from independent normal populations. Frame a hypothesis and test the Nature Learning's claim with 99% confidence.\n",
    "\n",
    "\n",
    "* **Step 01: Null Hypothesis**\n",
    "Ho: Total Score(NL) = Total Score(Speak GL) or Mew1 - Mew2 = 0 or Mew1 = Mew2\n",
    "\n",
    "* **Step 02: Define the Alternate Hypothesis**\n",
    "H1: Total Score(NL) > Total Score(Speak GL) # Right Tail Test...\n",
    "\n",
    "* **Step 03: Define the Level of Significance and Alpha**\n",
    "We will use 0.99 CL to draw our claims. i.e. the alpha will be 0.01"
   ]
  },
  {
   "cell_type": "code",
   "execution_count": 2,
   "metadata": {},
   "outputs": [
    {
     "data": {
      "text/html": [
       "<div>\n",
       "<style scoped>\n",
       "    .dataframe tbody tr th:only-of-type {\n",
       "        vertical-align: middle;\n",
       "    }\n",
       "\n",
       "    .dataframe tbody tr th {\n",
       "        vertical-align: top;\n",
       "    }\n",
       "\n",
       "    .dataframe thead th {\n",
       "        text-align: right;\n",
       "    }\n",
       "</style>\n",
       "<table border=\"1\" class=\"dataframe\">\n",
       "  <thead>\n",
       "    <tr style=\"text-align: right;\">\n",
       "      <th></th>\n",
       "      <th>gender</th>\n",
       "      <th>race/ethnicity</th>\n",
       "      <th>lunch</th>\n",
       "      <th>test preparation course</th>\n",
       "      <th>math score</th>\n",
       "      <th>reading score</th>\n",
       "      <th>writing score</th>\n",
       "      <th>total score</th>\n",
       "      <th>training institute</th>\n",
       "    </tr>\n",
       "  </thead>\n",
       "  <tbody>\n",
       "    <tr>\n",
       "      <th>0</th>\n",
       "      <td>female</td>\n",
       "      <td>group B</td>\n",
       "      <td>standard</td>\n",
       "      <td>none</td>\n",
       "      <td>89</td>\n",
       "      <td>55</td>\n",
       "      <td>56</td>\n",
       "      <td>200</td>\n",
       "      <td>Nature Learning</td>\n",
       "    </tr>\n",
       "    <tr>\n",
       "      <th>1</th>\n",
       "      <td>female</td>\n",
       "      <td>group C</td>\n",
       "      <td>standard</td>\n",
       "      <td>completed</td>\n",
       "      <td>55</td>\n",
       "      <td>63</td>\n",
       "      <td>72</td>\n",
       "      <td>190</td>\n",
       "      <td>Nature Learning</td>\n",
       "    </tr>\n",
       "    <tr>\n",
       "      <th>2</th>\n",
       "      <td>female</td>\n",
       "      <td>group B</td>\n",
       "      <td>standard</td>\n",
       "      <td>none</td>\n",
       "      <td>64</td>\n",
       "      <td>71</td>\n",
       "      <td>56</td>\n",
       "      <td>191</td>\n",
       "      <td>Nature Learning</td>\n",
       "    </tr>\n",
       "    <tr>\n",
       "      <th>3</th>\n",
       "      <td>male</td>\n",
       "      <td>group A</td>\n",
       "      <td>free/reduced</td>\n",
       "      <td>none</td>\n",
       "      <td>60</td>\n",
       "      <td>99</td>\n",
       "      <td>72</td>\n",
       "      <td>231</td>\n",
       "      <td>Nature Learning</td>\n",
       "    </tr>\n",
       "    <tr>\n",
       "      <th>4</th>\n",
       "      <td>male</td>\n",
       "      <td>group C</td>\n",
       "      <td>standard</td>\n",
       "      <td>none</td>\n",
       "      <td>75</td>\n",
       "      <td>66</td>\n",
       "      <td>51</td>\n",
       "      <td>192</td>\n",
       "      <td>Nature Learning</td>\n",
       "    </tr>\n",
       "  </tbody>\n",
       "</table>\n",
       "</div>"
      ],
      "text/plain": [
       "   gender race/ethnicity         lunch test preparation course  math score  \\\n",
       "0  female        group B      standard                    none          89   \n",
       "1  female        group C      standard               completed          55   \n",
       "2  female        group B      standard                    none          64   \n",
       "3    male        group A  free/reduced                    none          60   \n",
       "4    male        group C      standard                    none          75   \n",
       "\n",
       "   reading score  writing score  total score training institute  \n",
       "0             55             56          200    Nature Learning  \n",
       "1             63             72          190    Nature Learning  \n",
       "2             71             56          191    Nature Learning  \n",
       "3             99             72          231    Nature Learning  \n",
       "4             66             51          192    Nature Learning  "
      ]
     },
     "execution_count": 2,
     "metadata": {},
     "output_type": "execute_result"
    }
   ],
   "source": [
    "# Import the Datasets\n",
    "\n",
    "student = pd.read_csv(\"~/Downloads/StudentsPerformance.csv\")\n",
    "\n",
    "student.head()"
   ]
  },
  {
   "cell_type": "code",
   "execution_count": 3,
   "metadata": {},
   "outputs": [],
   "source": [
    "# Generate the Total Scores of Nature Learning & Speak Global...\n",
    "nature = student.loc[student[\"training institute\"]==\"Nature Learning\", \n",
    "                    \"total score\"]\n",
    "\n",
    "speakgl = student.loc[student[\"training institute\"]==\"Speak Global Learning\", \n",
    "                    \"total score\"]"
   ]
  },
  {
   "cell_type": "markdown",
   "metadata": {},
   "source": [
    "### Points to Remember\n",
    "\n",
    "* Data should be normal ~ Shapiro Wilk Test of Normality\n",
    "Note: if the sample size is > 5000, then use Jarque Bera test\n",
    "\n",
    "* There should be Equal Variance (Equality of Variance) ~ Levene's Test\n",
    "\n",
    "Note: These tests should comply for the TTest to be applied. If these assumptions are not met, then we will apply a Non Parametric Test ~ **MannWhitneyU Test**\n",
    "\n",
    "* Anova ~ Kruskall Wallis Test"
   ]
  },
  {
   "cell_type": "code",
   "execution_count": 5,
   "metadata": {},
   "outputs": [
    {
     "name": "stdout",
     "output_type": "stream",
     "text": [
      "ShapiroResult(statistic=0.997671365737915, pvalue=0.7214037179946899)\n",
      "ShapiroResult(statistic=0.9957306981086731, pvalue=0.19211649894714355)\n"
     ]
    }
   ],
   "source": [
    "# Shapiro\n",
    "# Ho: Data is Normal\n",
    "# Ha: Data is Not Normal\n",
    "print(stats.shapiro(nature)) # teststatsitic, pvalue\n",
    "print(stats.shapiro(speakgl))\n",
    "# Inference: If the PValue<Alpha => Reject the Ho else \n",
    "# We Fail to Reject the Ho"
   ]
  },
  {
   "cell_type": "code",
   "execution_count": 6,
   "metadata": {},
   "outputs": [
    {
     "data": {
      "text/plain": [
       "LeveneResult(statistic=0.6422721347822817, pvalue=0.42307998325221574)"
      ]
     },
     "execution_count": 6,
     "metadata": {},
     "output_type": "execute_result"
    }
   ],
   "source": [
    "# Levene's Test\n",
    "# Ho: That the Samples have Equal Variance\n",
    "# Ha: That the Samples DONT have Equal Variance\n",
    "\n",
    "stats.levene(nature, speakgl)"
   ]
  },
  {
   "cell_type": "code",
   "execution_count": 7,
   "metadata": {},
   "outputs": [
    {
     "name": "stdout",
     "output_type": "stream",
     "text": [
      "Test Stats:  0.1512551125394991\n"
     ]
    }
   ],
   "source": [
    "# Two Sample TTest\n",
    "\n",
    "xbar1 = np.mean(nature)\n",
    "xbar2 = np.mean(speakgl)\n",
    "\n",
    "std1 = np.std(nature, ddof = 1)\n",
    "std2 = np.std(speakgl, ddof = 1)\n",
    "\n",
    "n1 = len(nature)\n",
    "n2 = len(speakgl)\n",
    "\n",
    "# Ho: mew1 = mew2\n",
    "# Ha: mew1>mew2 (Right Tail Test)\n",
    "\n",
    "# Calculate the Test Statistic\n",
    "num = (xbar1 - xbar2) - 0\n",
    "deno = np.sqrt((std1**2/n1) + (std2**2/n2))\n",
    "teststats = num/deno\n",
    "print(\"Test Stats: \", teststats)"
   ]
  },
  {
   "cell_type": "code",
   "execution_count": 11,
   "metadata": {},
   "outputs": [
    {
     "name": "stdout",
     "output_type": "stream",
     "text": [
      "PValue_CDF: 0.43990252216938375\n",
      "PValue_SF: 0.43990252216938386\n"
     ]
    }
   ],
   "source": [
    "# PValue ~ cdf and sf\n",
    "# Cdf will return the Probability to the left...\n",
    "# where sf will return the probability to the right...\n",
    "print(\"PValue_CDF:\", 1 - stats.t.cdf(teststats, df = (n1+n2)-2))\n",
    "print(\"PValue_SF:\", stats.t.sf(teststats, df = (n1+n2)-2))+"
   ]
  },
  {
   "cell_type": "code",
   "execution_count": 16,
   "metadata": {},
   "outputs": [
    {
     "data": {
      "text/plain": [
       "0.4960106436853684"
      ]
     },
     "execution_count": 16,
     "metadata": {},
     "output_type": "execute_result"
    }
   ],
   "source": [
    "1 - stats.norm.cdf(0.01)"
   ]
  },
  {
   "cell_type": "code",
   "execution_count": 13,
   "metadata": {},
   "outputs": [
    {
     "data": {
      "text/plain": [
       "Ttest_indResult(statistic=0.15125511253949914, pvalue=0.43990252216938386)"
      ]
     },
     "execution_count": 13,
     "metadata": {},
     "output_type": "execute_result"
    }
   ],
   "source": [
    "# Direct Function...\n",
    "stats.ttest_ind(nature, speakgl, alternative = \"greater\")"
   ]
  },
  {
   "cell_type": "markdown",
   "metadata": {},
   "source": [
    "A survey claims that in a math test female students tend to score fewer marks than the average marks of 75 out of 100. Consider a sample of 24 female students and perform a hypothesis test to check the claim with 90% confidence.\n",
    "\n",
    "\n",
    "* **Step01: Define the Null Hypothesis**\n",
    "* Ho: Avg Marks >= 75 | Avg Marks = 75 (Both the Exp are OK)\n",
    "\n",
    "\n",
    "* **Step02: Define the Alternate Hypothesis**\n",
    "* Ho: Avg Marks < 75\n",
    "\n",
    "Note: Check the Claim at 0.90"
   ]
  },
  {
   "cell_type": "code",
   "execution_count": 17,
   "metadata": {},
   "outputs": [
    {
     "data": {
      "text/plain": [
       "(24, 9)"
      ]
     },
     "execution_count": 17,
     "metadata": {},
     "output_type": "execute_result"
    }
   ],
   "source": [
    "maths = pd.read_csv(\"~/Downloads/mathscore_1ttest.csv\")\n",
    "maths.head()\n",
    "\n",
    "maths.shape"
   ]
  },
  {
   "cell_type": "code",
   "execution_count": 12,
   "metadata": {},
   "outputs": [
    {
     "data": {
      "text/html": [
       "<div>\n",
       "<style scoped>\n",
       "    .dataframe tbody tr th:only-of-type {\n",
       "        vertical-align: middle;\n",
       "    }\n",
       "\n",
       "    .dataframe tbody tr th {\n",
       "        vertical-align: top;\n",
       "    }\n",
       "\n",
       "    .dataframe thead th {\n",
       "        text-align: right;\n",
       "    }\n",
       "</style>\n",
       "<table border=\"1\" class=\"dataframe\">\n",
       "  <thead>\n",
       "    <tr style=\"text-align: right;\">\n",
       "      <th></th>\n",
       "      <th>gender</th>\n",
       "      <th>race/ethnicity</th>\n",
       "      <th>lunch</th>\n",
       "      <th>test preparation course</th>\n",
       "      <th>math score</th>\n",
       "      <th>reading score</th>\n",
       "      <th>writing score</th>\n",
       "      <th>total score</th>\n",
       "      <th>training institute</th>\n",
       "    </tr>\n",
       "  </thead>\n",
       "  <tbody>\n",
       "    <tr>\n",
       "      <th>0</th>\n",
       "      <td>female</td>\n",
       "      <td>group C</td>\n",
       "      <td>standard</td>\n",
       "      <td>none</td>\n",
       "      <td>60</td>\n",
       "      <td>72</td>\n",
       "      <td>74</td>\n",
       "      <td>206</td>\n",
       "      <td>Nature Learning</td>\n",
       "    </tr>\n",
       "    <tr>\n",
       "      <th>1</th>\n",
       "      <td>female</td>\n",
       "      <td>group C</td>\n",
       "      <td>standard</td>\n",
       "      <td>none</td>\n",
       "      <td>59</td>\n",
       "      <td>72</td>\n",
       "      <td>68</td>\n",
       "      <td>199</td>\n",
       "      <td>Nature Learning</td>\n",
       "    </tr>\n",
       "    <tr>\n",
       "      <th>2</th>\n",
       "      <td>female</td>\n",
       "      <td>group E</td>\n",
       "      <td>standard</td>\n",
       "      <td>none</td>\n",
       "      <td>100</td>\n",
       "      <td>100</td>\n",
       "      <td>100</td>\n",
       "      <td>300</td>\n",
       "      <td>Speak Global Learning</td>\n",
       "    </tr>\n",
       "    <tr>\n",
       "      <th>3</th>\n",
       "      <td>female</td>\n",
       "      <td>group D</td>\n",
       "      <td>standard</td>\n",
       "      <td>none</td>\n",
       "      <td>69</td>\n",
       "      <td>74</td>\n",
       "      <td>74</td>\n",
       "      <td>217</td>\n",
       "      <td>Speak Global Learning</td>\n",
       "    </tr>\n",
       "    <tr>\n",
       "      <th>4</th>\n",
       "      <td>female</td>\n",
       "      <td>group A</td>\n",
       "      <td>free/reduced</td>\n",
       "      <td>none</td>\n",
       "      <td>47</td>\n",
       "      <td>59</td>\n",
       "      <td>50</td>\n",
       "      <td>156</td>\n",
       "      <td>Speak Global Learning</td>\n",
       "    </tr>\n",
       "  </tbody>\n",
       "</table>\n",
       "</div>"
      ],
      "text/plain": [
       "   gender race/ethnicity         lunch test preparation course  math score  \\\n",
       "0  female        group C      standard                    none          60   \n",
       "1  female        group C      standard                    none          59   \n",
       "2  female        group E      standard                    none         100   \n",
       "3  female        group D      standard                    none          69   \n",
       "4  female        group A  free/reduced                    none          47   \n",
       "\n",
       "   reading score  writing score  total score     training institute  \n",
       "0             72             74          206        Nature Learning  \n",
       "1             72             68          199        Nature Learning  \n",
       "2            100            100          300  Speak Global Learning  \n",
       "3             74             74          217  Speak Global Learning  \n",
       "4             59             50          156  Speak Global Learning  "
      ]
     },
     "execution_count": 12,
     "metadata": {},
     "output_type": "execute_result"
    }
   ],
   "source": [
    "maths.head()"
   ]
  },
  {
   "cell_type": "code",
   "execution_count": 19,
   "metadata": {},
   "outputs": [
    {
     "data": {
      "text/plain": [
       "Ttest_1sampResult(statistic=-3.6067380757023204, pvalue=0.0007426613957678669)"
      ]
     },
     "execution_count": 19,
     "metadata": {},
     "output_type": "execute_result"
    }
   ],
   "source": [
    "# Ho Female Students are scoring 75\n",
    "# Ha: Females Students Score < 75\n",
    "\n",
    "# One Sample TTest\n",
    "stats.ttest_1samp(maths[\"math score\"], 75, alternative=\"less\")\n",
    "\n",
    "# If the Pvalue < alpha, We reject the Ho\n",
    "# Else We Fail to Reject the Ho "
   ]
  },
  {
   "cell_type": "markdown",
   "metadata": {},
   "source": [
    "The teachers' association claims that the total score of the students who completed the test preparation course is different than the total score of the students who have not completed the course. The sample data consists of 15 students who completed the course and 18 students who have not completed the course. Test the association's claim with ⍺ = 0.05. **totalmarks_2ttest**\n",
    "\n",
    "\n",
    "* **Step01: Define the Null Hypothesis**\n",
    "* Ho: TotalScore(Completed Test Prep) = Total Score(Not Completed the Test Prep)\n",
    "\n",
    "\n",
    "* **Step02: Define the Alternate Hypothesis**\n",
    "* Ha: TotalScore(Completed Test Prep) != Total Score(Not Completed the Test Prep)\n",
    "\n",
    "Note: This is going to be a two tail test. Because it is a Sample Dataset, therefore, we will apply t-Test.\n",
    "\n",
    "Note: Check the Claim at 0.95"
   ]
  },
  {
   "cell_type": "code",
   "execution_count": 20,
   "metadata": {},
   "outputs": [
    {
     "data": {
      "text/html": [
       "<div>\n",
       "<style scoped>\n",
       "    .dataframe tbody tr th:only-of-type {\n",
       "        vertical-align: middle;\n",
       "    }\n",
       "\n",
       "    .dataframe tbody tr th {\n",
       "        vertical-align: top;\n",
       "    }\n",
       "\n",
       "    .dataframe thead th {\n",
       "        text-align: right;\n",
       "    }\n",
       "</style>\n",
       "<table border=\"1\" class=\"dataframe\">\n",
       "  <thead>\n",
       "    <tr style=\"text-align: right;\">\n",
       "      <th></th>\n",
       "      <th>gender</th>\n",
       "      <th>race/ethnicity</th>\n",
       "      <th>lunch</th>\n",
       "      <th>test preparation course</th>\n",
       "      <th>math score</th>\n",
       "      <th>reading score</th>\n",
       "      <th>writing score</th>\n",
       "      <th>total score</th>\n",
       "      <th>training institute</th>\n",
       "    </tr>\n",
       "  </thead>\n",
       "  <tbody>\n",
       "    <tr>\n",
       "      <th>0</th>\n",
       "      <td>male</td>\n",
       "      <td>group E</td>\n",
       "      <td>standard</td>\n",
       "      <td>completed</td>\n",
       "      <td>84</td>\n",
       "      <td>83</td>\n",
       "      <td>78</td>\n",
       "      <td>245</td>\n",
       "      <td>Speak Global Learning</td>\n",
       "    </tr>\n",
       "    <tr>\n",
       "      <th>1</th>\n",
       "      <td>male</td>\n",
       "      <td>group C</td>\n",
       "      <td>free/reduced</td>\n",
       "      <td>completed</td>\n",
       "      <td>79</td>\n",
       "      <td>77</td>\n",
       "      <td>75</td>\n",
       "      <td>231</td>\n",
       "      <td>Speak Global Learning</td>\n",
       "    </tr>\n",
       "    <tr>\n",
       "      <th>2</th>\n",
       "      <td>male</td>\n",
       "      <td>group A</td>\n",
       "      <td>standard</td>\n",
       "      <td>none</td>\n",
       "      <td>91</td>\n",
       "      <td>96</td>\n",
       "      <td>92</td>\n",
       "      <td>279</td>\n",
       "      <td>Nature Learning</td>\n",
       "    </tr>\n",
       "    <tr>\n",
       "      <th>3</th>\n",
       "      <td>female</td>\n",
       "      <td>group B</td>\n",
       "      <td>free/reduced</td>\n",
       "      <td>completed</td>\n",
       "      <td>76</td>\n",
       "      <td>94</td>\n",
       "      <td>87</td>\n",
       "      <td>257</td>\n",
       "      <td>Speak Global Learning</td>\n",
       "    </tr>\n",
       "    <tr>\n",
       "      <th>4</th>\n",
       "      <td>male</td>\n",
       "      <td>group A</td>\n",
       "      <td>standard</td>\n",
       "      <td>completed</td>\n",
       "      <td>46</td>\n",
       "      <td>41</td>\n",
       "      <td>43</td>\n",
       "      <td>130</td>\n",
       "      <td>Nature Learning</td>\n",
       "    </tr>\n",
       "  </tbody>\n",
       "</table>\n",
       "</div>"
      ],
      "text/plain": [
       "   gender race/ethnicity         lunch test preparation course  math score  \\\n",
       "0    male        group E      standard               completed          84   \n",
       "1    male        group C  free/reduced               completed          79   \n",
       "2    male        group A      standard                    none          91   \n",
       "3  female        group B  free/reduced               completed          76   \n",
       "4    male        group A      standard               completed          46   \n",
       "\n",
       "   reading score  writing score  total score     training institute  \n",
       "0             83             78          245  Speak Global Learning  \n",
       "1             77             75          231  Speak Global Learning  \n",
       "2             96             92          279        Nature Learning  \n",
       "3             94             87          257  Speak Global Learning  \n",
       "4             41             43          130        Nature Learning  "
      ]
     },
     "execution_count": 20,
     "metadata": {},
     "output_type": "execute_result"
    }
   ],
   "source": [
    "testprep = pd.read_csv(\"~/Downloads/totalmarks_2ttest.csv\")\n",
    "testprep.head()"
   ]
  },
  {
   "cell_type": "code",
   "execution_count": 23,
   "metadata": {},
   "outputs": [],
   "source": [
    "# Split the Data in Completed and None...\n",
    "\n",
    "complete = testprep.loc[testprep[\"test preparation course\"]==\"completed\", \n",
    "                        \"total score\"]\n",
    "\n",
    "none = testprep.loc[testprep[\"test preparation course\"]==\"none\", \n",
    "                        \"total score\"]"
   ]
  },
  {
   "cell_type": "code",
   "execution_count": 26,
   "metadata": {},
   "outputs": [
    {
     "name": "stdout",
     "output_type": "stream",
     "text": [
      "Shapiro:  ShapiroResult(statistic=0.9055536389350891, pvalue=0.11574102193117142) ShapiroResult(statistic=0.9481862187385559, pvalue=0.3972780704498291)\n",
      "Levene:  LeveneResult(statistic=0.045113770764648356, pvalue=0.8331854285659768)\n"
     ]
    }
   ],
   "source": [
    "# Normality Test and Levene Test\n",
    "print(\"Shapiro: \", stats.shapiro(complete), stats.shapiro(none))\n",
    "print(\"Levene: \", stats.levene(complete, none))"
   ]
  },
  {
   "cell_type": "code",
   "execution_count": 27,
   "metadata": {},
   "outputs": [
    {
     "data": {
      "text/plain": [
       "Ttest_indResult(statistic=1.4385323319823262, pvalue=0.16030339806989594)"
      ]
     },
     "execution_count": 27,
     "metadata": {},
     "output_type": "execute_result"
    }
   ],
   "source": [
    "# Two Sample T Test\n",
    "stats.ttest_ind(complete, none)\n",
    "\n",
    "# Inf: That there is no difference in the Performance of Both Groups"
   ]
  },
  {
   "cell_type": "markdown",
   "metadata": {},
   "source": [
    "### Two Sample T Test\n",
    "\n",
    "* Two Sample T-Test can be divided in two parts. One is called **Independent Sample TTTest**\n",
    "\n",
    "* Independent Samples/Sample T-Tests are the T-Tests where the Samples are not Related. They are independent in Nature. For e.g. The Doctor while testing a drug, gave medicine to one group and placebo to other group. These groups are not related.\n",
    "\n",
    "* VLCC - VLCC tried a particular diet plan for one group and the same diet plan is tried in another city. Therefore, the people involved are not related with each other. The results measured will be an example of Independent Sample T-Test.\n",
    "\n",
    "\n",
    "* **T-Test Related aka Paired T-Test** is another type of a T Test where we check the Before and After Effect o the same sample. The Subject target for the test is same. It is to ensure that we see some cause and effect relationship..."
   ]
  },
  {
   "cell_type": "markdown",
   "metadata": {},
   "source": [
    "A training institute wants to check if their writing training program was effective or not. 17 students are selected to check the hypothesis. Consider 0.05 as the level of significance.\n",
    "\n",
    "\n",
    "* **Step01: Define the Null Hypothesis**\n",
    "* Ho: Training Program has no Effect on the Writing Skills of the People. Mean Difference between the Scores = 0. Mean(scores_before) = Mean(score_after)\n",
    "\n",
    "\n",
    "* **Step02: Define the Alternate Hypothesis**\n",
    "* Ha: Mean(scores_after) > Mean(score_before). This means that the Scores have improved.\n",
    "\n",
    "Note: This is going to be a Right Tail test. \n",
    "\n",
    "Note: Because it is a Sample Dataset of before and after effect, therefore, we will apply Paired t-Test.\n",
    "\n",
    "Note: Check the Claim at 0.95"
   ]
  },
  {
   "cell_type": "code",
   "execution_count": 28,
   "metadata": {},
   "outputs": [
    {
     "data": {
      "text/plain": [
       "Index(['score_before', 'score_after'], dtype='object')"
      ]
     },
     "execution_count": 28,
     "metadata": {},
     "output_type": "execute_result"
    }
   ],
   "source": [
    "writing = pd.read_csv(\"~/Downloads/WritingScores.csv\")\n",
    "writing.head()\n",
    "\n",
    "writing.columns"
   ]
  },
  {
   "cell_type": "code",
   "execution_count": 30,
   "metadata": {},
   "outputs": [
    {
     "name": "stdout",
     "output_type": "stream",
     "text": [
      "LeveneResult(statistic=0.4612497504491918, pvalue=0.5019236019309768)\n"
     ]
    }
   ],
   "source": [
    "# Normality Test and Levene Test\n",
    "stats.shapiro(writing.score_before), \n",
    "stats.shapiro(writing.score_after)\n",
    "print(stats.levene(writing.score_before, writing.score_after))"
   ]
  },
  {
   "cell_type": "code",
   "execution_count": 31,
   "metadata": {},
   "outputs": [
    {
     "data": {
      "text/plain": [
       "Ttest_relResult(statistic=-1.4394882729049499, pvalue=0.9153549355186007)"
      ]
     },
     "execution_count": 31,
     "metadata": {},
     "output_type": "execute_result"
    }
   ],
   "source": [
    "# T Test Related to check the effect of Training Program on Wrting..\n",
    "stats.ttest_rel(writing.score_before, writing.score_after,\n",
    "               alternative = \"greater\")\n",
    "\n",
    "# Inf: Since the PValue > alpha, We Fail to reject the Ho\n",
    "# It means that there is no effect on the scores..."
   ]
  },
  {
   "cell_type": "markdown",
   "metadata": {},
   "source": [
    "An energy drink distributor claims that a new advertisement poster, featuring a life-size picture of a well-known athlete, will increase the product sales in outlets by an average of 50 bottles in a week. For a random sample of 10 outlets, the following data was collected. Test that the null hypothesis that there the advertisement was effective in increasing sales. Test the hypothesis using critical region technique. Use α = 0.05.\n",
    "\n",
    "Given data:\n",
    "    * sales_before = [33, 32, 38, 45, 37, 47, 48, 41, 45]\n",
    "    * sales_after = [42, 35, 31, 41, 37, 36, 49, 49, 48]\n",
    "    \n",
    "* Ho: That there is no Difference in the Sales irrespective of the Celeb (mew1 = mew2)\n",
    "\n",
    "* Ho: Sales increased due to Celeb (mew2 > mew1)"
   ]
  },
  {
   "cell_type": "code",
   "execution_count": 32,
   "metadata": {},
   "outputs": [],
   "source": [
    "sales_before = [33, 32, 38, 45, 37, 47, 48, 41, 45]\n",
    "sales_after = [42, 35, 31, 41, 37, 36, 49, 49, 48]"
   ]
  },
  {
   "cell_type": "code",
   "execution_count": 34,
   "metadata": {},
   "outputs": [
    {
     "data": {
      "text/plain": [
       "LeveneResult(statistic=0.09467455621301783, pvalue=0.7622856002535852)"
      ]
     },
     "execution_count": 34,
     "metadata": {},
     "output_type": "execute_result"
    }
   ],
   "source": [
    "# Normality Test and Levene Test\n",
    "stats.shapiro(sales_before), stats.shapiro(sales_after)\n",
    "stats.levene(sales_before, sales_after)"
   ]
  },
  {
   "cell_type": "code",
   "execution_count": 41,
   "metadata": {},
   "outputs": [
    {
     "data": {
      "text/plain": [
       "Ttest_relResult(statistic=-0.10085458113185983, pvalue=0.5389261426537351)"
      ]
     },
     "execution_count": 41,
     "metadata": {},
     "output_type": "execute_result"
    }
   ],
   "source": [
    "# Apply the Related T Test\n",
    "stats.ttest_rel(sales_before, sales_after, alternative=\"greater\")"
   ]
  },
  {
   "cell_type": "markdown",
   "metadata": {},
   "source": [
    "### One Sample Z Proportion Tests\n",
    "\n",
    "In previous years, people believed that at most 80% of male students score more than 50 marks out of 100 in Mathematics. Perform a test to check whether this percentage is more than 80. Consider the level of significance as 0.05 **Student Performance.csv**"
   ]
  },
  {
   "cell_type": "code",
   "execution_count": 43,
   "metadata": {},
   "outputs": [
    {
     "data": {
      "text/html": [
       "<div>\n",
       "<style scoped>\n",
       "    .dataframe tbody tr th:only-of-type {\n",
       "        vertical-align: middle;\n",
       "    }\n",
       "\n",
       "    .dataframe tbody tr th {\n",
       "        vertical-align: top;\n",
       "    }\n",
       "\n",
       "    .dataframe thead th {\n",
       "        text-align: right;\n",
       "    }\n",
       "</style>\n",
       "<table border=\"1\" class=\"dataframe\">\n",
       "  <thead>\n",
       "    <tr style=\"text-align: right;\">\n",
       "      <th></th>\n",
       "      <th>gender</th>\n",
       "      <th>race/ethnicity</th>\n",
       "      <th>lunch</th>\n",
       "      <th>test preparation course</th>\n",
       "      <th>math score</th>\n",
       "      <th>reading score</th>\n",
       "      <th>writing score</th>\n",
       "      <th>total score</th>\n",
       "      <th>training institute</th>\n",
       "    </tr>\n",
       "  </thead>\n",
       "  <tbody>\n",
       "    <tr>\n",
       "      <th>0</th>\n",
       "      <td>female</td>\n",
       "      <td>group B</td>\n",
       "      <td>standard</td>\n",
       "      <td>none</td>\n",
       "      <td>89</td>\n",
       "      <td>55</td>\n",
       "      <td>56</td>\n",
       "      <td>200</td>\n",
       "      <td>Nature Learning</td>\n",
       "    </tr>\n",
       "    <tr>\n",
       "      <th>1</th>\n",
       "      <td>female</td>\n",
       "      <td>group C</td>\n",
       "      <td>standard</td>\n",
       "      <td>completed</td>\n",
       "      <td>55</td>\n",
       "      <td>63</td>\n",
       "      <td>72</td>\n",
       "      <td>190</td>\n",
       "      <td>Nature Learning</td>\n",
       "    </tr>\n",
       "    <tr>\n",
       "      <th>2</th>\n",
       "      <td>female</td>\n",
       "      <td>group B</td>\n",
       "      <td>standard</td>\n",
       "      <td>none</td>\n",
       "      <td>64</td>\n",
       "      <td>71</td>\n",
       "      <td>56</td>\n",
       "      <td>191</td>\n",
       "      <td>Nature Learning</td>\n",
       "    </tr>\n",
       "    <tr>\n",
       "      <th>3</th>\n",
       "      <td>male</td>\n",
       "      <td>group A</td>\n",
       "      <td>free/reduced</td>\n",
       "      <td>none</td>\n",
       "      <td>60</td>\n",
       "      <td>99</td>\n",
       "      <td>72</td>\n",
       "      <td>231</td>\n",
       "      <td>Nature Learning</td>\n",
       "    </tr>\n",
       "    <tr>\n",
       "      <th>4</th>\n",
       "      <td>male</td>\n",
       "      <td>group C</td>\n",
       "      <td>standard</td>\n",
       "      <td>none</td>\n",
       "      <td>75</td>\n",
       "      <td>66</td>\n",
       "      <td>51</td>\n",
       "      <td>192</td>\n",
       "      <td>Nature Learning</td>\n",
       "    </tr>\n",
       "  </tbody>\n",
       "</table>\n",
       "</div>"
      ],
      "text/plain": [
       "   gender race/ethnicity         lunch test preparation course  math score  \\\n",
       "0  female        group B      standard                    none          89   \n",
       "1  female        group C      standard               completed          55   \n",
       "2  female        group B      standard                    none          64   \n",
       "3    male        group A  free/reduced                    none          60   \n",
       "4    male        group C      standard                    none          75   \n",
       "\n",
       "   reading score  writing score  total score training institute  \n",
       "0             55             56          200    Nature Learning  \n",
       "1             63             72          190    Nature Learning  \n",
       "2             71             56          191    Nature Learning  \n",
       "3             99             72          231    Nature Learning  \n",
       "4             66             51          192    Nature Learning  "
      ]
     },
     "execution_count": 43,
     "metadata": {},
     "output_type": "execute_result"
    }
   ],
   "source": [
    "student = pd.read_csv(\"~/Downloads/StudentsPerformance.csv\")\n",
    "\n",
    "student.head()"
   ]
  },
  {
   "cell_type": "code",
   "execution_count": 45,
   "metadata": {},
   "outputs": [
    {
     "name": "stdout",
     "output_type": "stream",
     "text": [
      "0.8757763975155279\n"
     ]
    }
   ],
   "source": [
    "# Find the Sample Proportion...\n",
    "hyp_prop = 0.80\n",
    "\n",
    "# Sample Prop = Count of Male Students scoring >50/total male students\n",
    "count_50 = student.loc[(student.gender==\"male\") & \n",
    "                       (student[\"math score\"]>50), ].shape[0]\n",
    "\n",
    "total_males = student.loc[student.gender==\"male\"].shape[0]\n",
    "\n",
    "samp_prop = count_50/total_males\n",
    "print(samp_prop)"
   ]
  },
  {
   "cell_type": "code",
   "execution_count": 52,
   "metadata": {},
   "outputs": [
    {
     "data": {
      "text/plain": [
       "1.6448536269514729"
      ]
     },
     "execution_count": 52,
     "metadata": {},
     "output_type": "execute_result"
    }
   ],
   "source": [
    "# Null Hypothesis: That the Proportion is Less than Equal to 80%\n",
    "# Alternate Hypothesis: That the Proportion is Greater than 80% | Right Tail Test\n",
    "\n",
    "# Critical Value\n",
    "stats.norm.isf(0.05)"
   ]
  },
  {
   "cell_type": "code",
   "execution_count": 47,
   "metadata": {},
   "outputs": [
    {
     "name": "stdout",
     "output_type": "stream",
     "text": [
      "TestStats:  4.163394160018601\n"
     ]
    }
   ],
   "source": [
    "# Apply the Test Statistic\n",
    "num = samp_prop - hyp_prop\n",
    "deno = np.sqrt((hyp_prop*(1-hyp_prop))/total_males)\n",
    "\n",
    "teststats = num/deno\n",
    "print(\"TestStats: \", teststats)"
   ]
  },
  {
   "cell_type": "code",
   "execution_count": 50,
   "metadata": {},
   "outputs": [
    {
     "name": "stdout",
     "output_type": "stream",
     "text": [
      "CDF 1.5677570141208797e-05\n",
      "SF 1.5677570141203745e-05\n"
     ]
    }
   ],
   "source": [
    "# Pvalue\n",
    "print(\"CDF\", stats.norm.sf(teststats))\n",
    "print(\"SF\", 1 - stats.norm.cdf(teststats))"
   ]
  },
  {
   "cell_type": "code",
   "execution_count": 51,
   "metadata": {},
   "outputs": [
    {
     "data": {
      "text/plain": [
       "(0.8401038178124423, 0.9114489772186136)"
      ]
     },
     "execution_count": 51,
     "metadata": {},
     "output_type": "execute_result"
    }
   ],
   "source": [
    "# Confidence Interval\n",
    "stats.norm.interval(0.95, loc = samp_prop, scale = deno)"
   ]
  },
  {
   "cell_type": "markdown",
   "metadata": {},
   "source": [
    "From a sample of 361 business owners had gone into bankruptcy due to recession. On taking a survey, it was found that 105 of them had not consulted any professional for managing their finance before opening the business. Test the null hypothesis that at most 25% of all businesses had not consulted before opening the business. Test the claim using p-value technique. Use α = 0.05.\n",
    "\n",
    "\n",
    "* Ho: That people did not consult any professional services for Finance mew<=0.25\n",
    "* Ha: That people did consult any professional services for Finance mew>0.25"
   ]
  },
  {
   "cell_type": "code",
   "execution_count": 53,
   "metadata": {},
   "outputs": [],
   "source": [
    "hyp_prop = 0.25\n",
    "samp_prop = 105/361"
   ]
  },
  {
   "cell_type": "code",
   "execution_count": 54,
   "metadata": {},
   "outputs": [
    {
     "name": "stdout",
     "output_type": "stream",
     "text": [
      "TestStats:  1.7928245201151534\n"
     ]
    }
   ],
   "source": [
    "num = samp_prop - hyp_prop\n",
    "deno = np.sqrt((hyp_prop*(1-hyp_prop))/361)\n",
    "teststats = num/deno\n",
    "print(\"TestStats: \", teststats)"
   ]
  },
  {
   "cell_type": "code",
   "execution_count": 55,
   "metadata": {},
   "outputs": [
    {
     "data": {
      "text/plain": [
       "0.03650049373124949"
      ]
     },
     "execution_count": 55,
     "metadata": {},
     "output_type": "execute_result"
    }
   ],
   "source": [
    "# PValue\n",
    "stats.norm.sf(teststats) # Reject the Ho"
   ]
  },
  {
   "cell_type": "code",
   "execution_count": 56,
   "metadata": {},
   "outputs": [
    {
     "data": {
      "text/plain": [
       "(0.24619086783771343, 0.33552658368583227)"
      ]
     },
     "execution_count": 56,
     "metadata": {},
     "output_type": "execute_result"
    }
   ],
   "source": [
    "# Confidence\n",
    "stats.norm.interval(0.95, loc = samp_prop, scale = deno)\n",
    "# Since the PValue < Alpha, We Reject the Ho\n",
    "# However, we need more evidence to support the claim..."
   ]
  },
  {
   "cell_type": "markdown",
   "metadata": {},
   "source": [
    "A team of nutritionists believes that each institute provides 'standard' lunch to an equal proportion of students. A sample of students from institutes Nature Learning and Speak Global Learning is given. Consider the null hypothesis as equality of proportion with 0.1 level of significance.\n",
    "\n",
    "* Ho: That both the institutes are providing Same Quality of Lunch\n",
    "* Ha: That both the institutes aren't providing Same Quality of Lunch (Two Tail Test)"
   ]
  },
  {
   "cell_type": "code",
   "execution_count": 88,
   "metadata": {},
   "outputs": [
    {
     "data": {
      "text/html": [
       "<div>\n",
       "<style scoped>\n",
       "    .dataframe tbody tr th:only-of-type {\n",
       "        vertical-align: middle;\n",
       "    }\n",
       "\n",
       "    .dataframe tbody tr th {\n",
       "        vertical-align: top;\n",
       "    }\n",
       "\n",
       "    .dataframe thead th {\n",
       "        text-align: right;\n",
       "    }\n",
       "</style>\n",
       "<table border=\"1\" class=\"dataframe\">\n",
       "  <thead>\n",
       "    <tr style=\"text-align: right;\">\n",
       "      <th></th>\n",
       "      <th>gender</th>\n",
       "      <th>race/ethnicity</th>\n",
       "      <th>lunch</th>\n",
       "      <th>test preparation course</th>\n",
       "      <th>math score</th>\n",
       "      <th>reading score</th>\n",
       "      <th>writing score</th>\n",
       "      <th>total score</th>\n",
       "      <th>training institute</th>\n",
       "    </tr>\n",
       "  </thead>\n",
       "  <tbody>\n",
       "    <tr>\n",
       "      <th>0</th>\n",
       "      <td>female</td>\n",
       "      <td>group B</td>\n",
       "      <td>standard</td>\n",
       "      <td>none</td>\n",
       "      <td>89</td>\n",
       "      <td>55</td>\n",
       "      <td>56</td>\n",
       "      <td>200</td>\n",
       "      <td>Nature Learning</td>\n",
       "    </tr>\n",
       "    <tr>\n",
       "      <th>1</th>\n",
       "      <td>female</td>\n",
       "      <td>group C</td>\n",
       "      <td>standard</td>\n",
       "      <td>completed</td>\n",
       "      <td>55</td>\n",
       "      <td>63</td>\n",
       "      <td>72</td>\n",
       "      <td>190</td>\n",
       "      <td>Nature Learning</td>\n",
       "    </tr>\n",
       "    <tr>\n",
       "      <th>2</th>\n",
       "      <td>female</td>\n",
       "      <td>group B</td>\n",
       "      <td>standard</td>\n",
       "      <td>none</td>\n",
       "      <td>64</td>\n",
       "      <td>71</td>\n",
       "      <td>56</td>\n",
       "      <td>191</td>\n",
       "      <td>Nature Learning</td>\n",
       "    </tr>\n",
       "    <tr>\n",
       "      <th>3</th>\n",
       "      <td>male</td>\n",
       "      <td>group A</td>\n",
       "      <td>free/reduced</td>\n",
       "      <td>none</td>\n",
       "      <td>60</td>\n",
       "      <td>99</td>\n",
       "      <td>72</td>\n",
       "      <td>231</td>\n",
       "      <td>Nature Learning</td>\n",
       "    </tr>\n",
       "    <tr>\n",
       "      <th>4</th>\n",
       "      <td>male</td>\n",
       "      <td>group C</td>\n",
       "      <td>standard</td>\n",
       "      <td>none</td>\n",
       "      <td>75</td>\n",
       "      <td>66</td>\n",
       "      <td>51</td>\n",
       "      <td>192</td>\n",
       "      <td>Nature Learning</td>\n",
       "    </tr>\n",
       "  </tbody>\n",
       "</table>\n",
       "</div>"
      ],
      "text/plain": [
       "   gender race/ethnicity         lunch test preparation course  math score  \\\n",
       "0  female        group B      standard                    none          89   \n",
       "1  female        group C      standard               completed          55   \n",
       "2  female        group B      standard                    none          64   \n",
       "3    male        group A  free/reduced                    none          60   \n",
       "4    male        group C      standard                    none          75   \n",
       "\n",
       "   reading score  writing score  total score training institute  \n",
       "0             55             56          200    Nature Learning  \n",
       "1             63             72          190    Nature Learning  \n",
       "2             71             56          191    Nature Learning  \n",
       "3             99             72          231    Nature Learning  \n",
       "4             66             51          192    Nature Learning  "
      ]
     },
     "execution_count": 88,
     "metadata": {},
     "output_type": "execute_result"
    }
   ],
   "source": [
    "student.head()"
   ]
  },
  {
   "cell_type": "code",
   "execution_count": 89,
   "metadata": {},
   "outputs": [
    {
     "data": {
      "text/plain": [
       "array(['Nature Learning', 'Speak Global Learning'], dtype=object)"
      ]
     },
     "execution_count": 89,
     "metadata": {},
     "output_type": "execute_result"
    }
   ],
   "source": [
    "student[\"training institute\"].unique()"
   ]
  },
  {
   "cell_type": "code",
   "execution_count": 60,
   "metadata": {},
   "outputs": [
    {
     "name": "stdout",
     "output_type": "stream",
     "text": [
      "329 317\n"
     ]
    }
   ],
   "source": [
    "# Count of Standard Lunch where the Institute is Nature Learning\n",
    "nature_lunch_count = student.loc[(student[\"training institute\"]==\"Nature Learning\")&\n",
    "                                 (student.lunch==\"standard\"), ].shape[0] \n",
    "\n",
    "# Count of Standard Lunch where the Institute is Speakgl\n",
    "\n",
    "sgl_lunch_count = student.loc[(student[\"training institute\"]==\n",
    "                               \"Speak Global Learning\")&\n",
    "                                 (student.lunch==\"standard\")].shape[0] \n",
    "print(nature_lunch_count, sgl_lunch_count)"
   ]
  },
  {
   "cell_type": "code",
   "execution_count": 61,
   "metadata": {},
   "outputs": [],
   "source": [
    "# Total Students in NL and sgl\n",
    "nl = student.loc[student[\"training institute\"]==\"Nature Learning\"].shape[0]\n",
    "sgl = student.loc[student[\"training institute\"]==\"Speak Global Learning\"].shape[0]"
   ]
  },
  {
   "cell_type": "code",
   "execution_count": 63,
   "metadata": {},
   "outputs": [
    {
     "name": "stdout",
     "output_type": "stream",
     "text": [
      "0.4274690915859791\n"
     ]
    }
   ],
   "source": [
    "import statsmodels.api as sma\n",
    "\n",
    "teststats, pvalue = sma.stats.proportions_ztest(count = [nature_lunch_count,\n",
    "                                                        sgl_lunch_count],\n",
    "                                               nobs=np.array([nl, sgl]))\n",
    "\n",
    "print(pvalue)"
   ]
  },
  {
   "cell_type": "markdown",
   "metadata": {},
   "source": [
    "Steve owns a kiosk where he sells two magazines - A and B in a month. He buys 100 copies of magazine A out of which 78 were sold and 70 copies of magazine B out of which 65 were sold. Is there enough evidence to say that magazine is B is more popular? Test the claim using p-value technique with α = 0.05.\n",
    "\n",
    "* Ho: MagA = MagB. It means the Sales of Mag_A = Sales Mag_B\n",
    "* Ha: Sales Mag_B > Sales Mag_A"
   ]
  },
  {
   "cell_type": "code",
   "execution_count": 64,
   "metadata": {},
   "outputs": [
    {
     "name": "stdout",
     "output_type": "stream",
     "text": [
      "0.009099103201094605\n"
     ]
    }
   ],
   "source": [
    "# 100 copies of magazine A out of which 78 were sold\n",
    "mag_a = 100\n",
    "mag_b = 70\n",
    "# 70 copies of magazine B out of which 65 were sold\n",
    "sold_a = 78\n",
    "sold_b = 65\n",
    "teststats, pvalue = sma.stats.proportions_ztest(count = [sold_a, sold_b],\n",
    "                                    nobs = [mag_a, mag_b])\n",
    "\n",
    "print(pvalue)\n",
    "\n",
    "# Since the Pvalue is less than 0.05, We Reject the Ho\n",
    "# It means that the Mag B is Indeed Popular..."
   ]
  },
  {
   "cell_type": "markdown",
   "metadata": {},
   "source": [
    "# Summary of the Tests\n",
    "\n",
    "* The Test that we perform have a very fundamental difference that if the Pop Metrics are given, then go for Z Test else try T Test.\n",
    "\n",
    "* T Tests are also bifurcated in 03 ways - One Sample T Test, Two Sample Independent T Test and Paired T Test.\n",
    "\n",
    "* These tests are performed on the Data(Samples).\n",
    "\n",
    "* When it comes to the proportion tests, they are generally Z Proportion Test.\n",
    "\n",
    "* And these proportion tests are ratio based where no exact data is needed. If you get the data, you convert the data into proportion...\n",
    "\n"
   ]
  },
  {
   "cell_type": "markdown",
   "metadata": {},
   "source": [
    "### Application of T Test on the Dataset"
   ]
  },
  {
   "cell_type": "code",
   "execution_count": 2,
   "metadata": {},
   "outputs": [],
   "source": [
    "sales = pd.read_csv(\"~/Downloads/sales.csv\")"
   ]
  },
  {
   "cell_type": "code",
   "execution_count": 3,
   "metadata": {},
   "outputs": [
    {
     "data": {
      "text/html": [
       "<div>\n",
       "<style scoped>\n",
       "    .dataframe tbody tr th:only-of-type {\n",
       "        vertical-align: middle;\n",
       "    }\n",
       "\n",
       "    .dataframe tbody tr th {\n",
       "        vertical-align: top;\n",
       "    }\n",
       "\n",
       "    .dataframe thead th {\n",
       "        text-align: right;\n",
       "    }\n",
       "</style>\n",
       "<table border=\"1\" class=\"dataframe\">\n",
       "  <thead>\n",
       "    <tr style=\"text-align: right;\">\n",
       "      <th></th>\n",
       "      <th>Item_Identifier</th>\n",
       "      <th>Item_Weight</th>\n",
       "      <th>Item_Fat_Content</th>\n",
       "      <th>Item_Visibility</th>\n",
       "      <th>Item_Type</th>\n",
       "      <th>Item_MRP</th>\n",
       "      <th>Outlet_Identifier</th>\n",
       "      <th>Outlet_Establishment_Year</th>\n",
       "      <th>Outlet_Size</th>\n",
       "      <th>Outlet_Location_Type</th>\n",
       "      <th>Outlet_Type</th>\n",
       "      <th>Item_Outlet_Sales</th>\n",
       "      <th>Profit</th>\n",
       "    </tr>\n",
       "  </thead>\n",
       "  <tbody>\n",
       "    <tr>\n",
       "      <th>0</th>\n",
       "      <td>FDA15</td>\n",
       "      <td>9.30</td>\n",
       "      <td>Low Fat</td>\n",
       "      <td>0.016047</td>\n",
       "      <td>Dairy</td>\n",
       "      <td>249.8</td>\n",
       "      <td>OUT049</td>\n",
       "      <td>1999</td>\n",
       "      <td>Medium</td>\n",
       "      <td>Tier 2</td>\n",
       "      <td>Supermarket Type1</td>\n",
       "      <td>3735.1380</td>\n",
       "      <td>11.5</td>\n",
       "    </tr>\n",
       "    <tr>\n",
       "      <th>1</th>\n",
       "      <td>DRC01</td>\n",
       "      <td>5.92</td>\n",
       "      <td>Regular</td>\n",
       "      <td>0.019278</td>\n",
       "      <td>Soft Drinks</td>\n",
       "      <td>48.3</td>\n",
       "      <td>OUT018</td>\n",
       "      <td>2009</td>\n",
       "      <td>Medium</td>\n",
       "      <td>Tier 2</td>\n",
       "      <td>Supermarket Type2</td>\n",
       "      <td>443.4228</td>\n",
       "      <td>14.3</td>\n",
       "    </tr>\n",
       "    <tr>\n",
       "      <th>2</th>\n",
       "      <td>FDN15</td>\n",
       "      <td>17.50</td>\n",
       "      <td>Low Fat</td>\n",
       "      <td>0.016760</td>\n",
       "      <td>Meat</td>\n",
       "      <td>141.6</td>\n",
       "      <td>OUT049</td>\n",
       "      <td>1999</td>\n",
       "      <td>Medium</td>\n",
       "      <td>Tier 2</td>\n",
       "      <td>Supermarket Type1</td>\n",
       "      <td>2097.2700</td>\n",
       "      <td>14.5</td>\n",
       "    </tr>\n",
       "    <tr>\n",
       "      <th>3</th>\n",
       "      <td>FDX07</td>\n",
       "      <td>19.20</td>\n",
       "      <td>Regular</td>\n",
       "      <td>0.000000</td>\n",
       "      <td>Fruits and Vegetables</td>\n",
       "      <td>182.1</td>\n",
       "      <td>OUT010</td>\n",
       "      <td>1998</td>\n",
       "      <td>NaN</td>\n",
       "      <td>NaN</td>\n",
       "      <td>Grocery Store</td>\n",
       "      <td>732.3800</td>\n",
       "      <td>13.6</td>\n",
       "    </tr>\n",
       "    <tr>\n",
       "      <th>4</th>\n",
       "      <td>NCD19</td>\n",
       "      <td>8.93</td>\n",
       "      <td>Low Fat</td>\n",
       "      <td>0.000000</td>\n",
       "      <td>Household</td>\n",
       "      <td>53.9</td>\n",
       "      <td>OUT013</td>\n",
       "      <td>1987</td>\n",
       "      <td>High</td>\n",
       "      <td>Tier 3</td>\n",
       "      <td>Supermarket Type1</td>\n",
       "      <td>994.7052</td>\n",
       "      <td>14.1</td>\n",
       "    </tr>\n",
       "  </tbody>\n",
       "</table>\n",
       "</div>"
      ],
      "text/plain": [
       "  Item_Identifier  Item_Weight Item_Fat_Content  Item_Visibility  \\\n",
       "0           FDA15         9.30          Low Fat         0.016047   \n",
       "1           DRC01         5.92          Regular         0.019278   \n",
       "2           FDN15        17.50          Low Fat         0.016760   \n",
       "3           FDX07        19.20          Regular         0.000000   \n",
       "4           NCD19         8.93          Low Fat         0.000000   \n",
       "\n",
       "               Item_Type  Item_MRP Outlet_Identifier  \\\n",
       "0                  Dairy     249.8            OUT049   \n",
       "1            Soft Drinks      48.3            OUT018   \n",
       "2                   Meat     141.6            OUT049   \n",
       "3  Fruits and Vegetables     182.1            OUT010   \n",
       "4              Household      53.9            OUT013   \n",
       "\n",
       "   Outlet_Establishment_Year Outlet_Size Outlet_Location_Type  \\\n",
       "0                       1999      Medium               Tier 2   \n",
       "1                       2009      Medium               Tier 2   \n",
       "2                       1999      Medium               Tier 2   \n",
       "3                       1998         NaN                  NaN   \n",
       "4                       1987        High               Tier 3   \n",
       "\n",
       "         Outlet_Type  Item_Outlet_Sales  Profit  \n",
       "0  Supermarket Type1          3735.1380    11.5  \n",
       "1  Supermarket Type2           443.4228    14.3  \n",
       "2  Supermarket Type1          2097.2700    14.5  \n",
       "3      Grocery Store           732.3800    13.6  \n",
       "4  Supermarket Type1           994.7052    14.1  "
      ]
     },
     "execution_count": 3,
     "metadata": {},
     "output_type": "execute_result"
    }
   ],
   "source": [
    "sales.head()"
   ]
  },
  {
   "cell_type": "code",
   "execution_count": 4,
   "metadata": {},
   "outputs": [
    {
     "data": {
      "text/html": [
       "<div>\n",
       "<style scoped>\n",
       "    .dataframe tbody tr th:only-of-type {\n",
       "        vertical-align: middle;\n",
       "    }\n",
       "\n",
       "    .dataframe tbody tr th {\n",
       "        vertical-align: top;\n",
       "    }\n",
       "\n",
       "    .dataframe thead th {\n",
       "        text-align: right;\n",
       "    }\n",
       "</style>\n",
       "<table border=\"1\" class=\"dataframe\">\n",
       "  <thead>\n",
       "    <tr style=\"text-align: right;\">\n",
       "      <th></th>\n",
       "      <th>Item_MRP</th>\n",
       "      <th>Item_Outlet_Sales</th>\n",
       "    </tr>\n",
       "  </thead>\n",
       "  <tbody>\n",
       "    <tr>\n",
       "      <th>Item_MRP</th>\n",
       "      <td>1.000000</td>\n",
       "      <td>0.567555</td>\n",
       "    </tr>\n",
       "    <tr>\n",
       "      <th>Item_Outlet_Sales</th>\n",
       "      <td>0.567555</td>\n",
       "      <td>1.000000</td>\n",
       "    </tr>\n",
       "  </tbody>\n",
       "</table>\n",
       "</div>"
      ],
      "text/plain": [
       "                   Item_MRP  Item_Outlet_Sales\n",
       "Item_MRP           1.000000           0.567555\n",
       "Item_Outlet_Sales  0.567555           1.000000"
      ]
     },
     "execution_count": 4,
     "metadata": {},
     "output_type": "execute_result"
    }
   ],
   "source": [
    "sales.loc[:, [\"Item_MRP\", \"Item_Outlet_Sales\"]].corr()"
   ]
  },
  {
   "cell_type": "code",
   "execution_count": 5,
   "metadata": {},
   "outputs": [
    {
     "data": {
      "text/plain": [
       "Ttest_indResult(statistic=-110.30447571388359, pvalue=0.0)"
      ]
     },
     "execution_count": 5,
     "metadata": {},
     "output_type": "execute_result"
    }
   ],
   "source": [
    "# Statistical Test to Verify if Item MRP is a Significant Feature\n",
    "# For the Target....\n",
    "\n",
    "# Ho: Item MRP and Sales are independent in Nature. It means\n",
    "# both the variables are not related with each other ~ No Effect\n",
    "\n",
    "# Ha: Ho is False\n",
    "\n",
    "stats.ttest_ind(sales.Item_MRP, sales.Item_Outlet_Sales)\n",
    "\n",
    "# Reject the Ho. It means MRP is a strong predictor for Target"
   ]
  },
  {
   "cell_type": "code",
   "execution_count": 13,
   "metadata": {},
   "outputs": [],
   "source": [
    "# Ho: Item Type has no Relation with the Sales\n",
    "# Ha: Item Type has Relation with the Sales\n",
    "\n",
    "import statsmodels.formula.api as sfa\n",
    "\n",
    "model = sfa.ols(\"Item_Outlet_Sales~Outlet_Location_Type+Item_Type+Outlet_Identifier\", \n",
    "                data = sales).fit()"
   ]
  },
  {
   "cell_type": "code",
   "execution_count": 14,
   "metadata": {},
   "outputs": [
    {
     "data": {
      "text/html": [
       "<div>\n",
       "<style scoped>\n",
       "    .dataframe tbody tr th:only-of-type {\n",
       "        vertical-align: middle;\n",
       "    }\n",
       "\n",
       "    .dataframe tbody tr th {\n",
       "        vertical-align: top;\n",
       "    }\n",
       "\n",
       "    .dataframe thead th {\n",
       "        text-align: right;\n",
       "    }\n",
       "</style>\n",
       "<table border=\"1\" class=\"dataframe\">\n",
       "  <thead>\n",
       "    <tr style=\"text-align: right;\">\n",
       "      <th></th>\n",
       "      <th>df</th>\n",
       "      <th>sum_sq</th>\n",
       "      <th>mean_sq</th>\n",
       "      <th>F</th>\n",
       "      <th>PR(&gt;F)</th>\n",
       "    </tr>\n",
       "  </thead>\n",
       "  <tbody>\n",
       "    <tr>\n",
       "      <th>Outlet_Location_Type</th>\n",
       "      <td>6.0</td>\n",
       "      <td>8.673232e+08</td>\n",
       "      <td>1.445539e+08</td>\n",
       "      <td>61.448587</td>\n",
       "      <td>2.178052e-74</td>\n",
       "    </tr>\n",
       "    <tr>\n",
       "      <th>Item_Type</th>\n",
       "      <td>15.0</td>\n",
       "      <td>1.055765e+08</td>\n",
       "      <td>7.038432e+06</td>\n",
       "      <td>2.991976</td>\n",
       "      <td>8.327391e-05</td>\n",
       "    </tr>\n",
       "    <tr>\n",
       "      <th>Outlet_Identifier</th>\n",
       "      <td>9.0</td>\n",
       "      <td>3.413822e+09</td>\n",
       "      <td>3.793135e+08</td>\n",
       "      <td>161.242868</td>\n",
       "      <td>3.170758e-276</td>\n",
       "    </tr>\n",
       "    <tr>\n",
       "      <th>Residual</th>\n",
       "      <td>6429.0</td>\n",
       "      <td>1.512381e+10</td>\n",
       "      <td>2.352436e+06</td>\n",
       "      <td>NaN</td>\n",
       "      <td>NaN</td>\n",
       "    </tr>\n",
       "  </tbody>\n",
       "</table>\n",
       "</div>"
      ],
      "text/plain": [
       "                          df        sum_sq       mean_sq           F  \\\n",
       "Outlet_Location_Type     6.0  8.673232e+08  1.445539e+08   61.448587   \n",
       "Item_Type               15.0  1.055765e+08  7.038432e+06    2.991976   \n",
       "Outlet_Identifier        9.0  3.413822e+09  3.793135e+08  161.242868   \n",
       "Residual              6429.0  1.512381e+10  2.352436e+06         NaN   \n",
       "\n",
       "                             PR(>F)  \n",
       "Outlet_Location_Type   2.178052e-74  \n",
       "Item_Type              8.327391e-05  \n",
       "Outlet_Identifier     3.170758e-276  \n",
       "Residual                        NaN  "
      ]
     },
     "execution_count": 14,
     "metadata": {},
     "output_type": "execute_result"
    }
   ],
   "source": [
    "from statsmodels.stats.anova import anova_lm\n",
    "anova_lm(model)"
   ]
  },
  {
   "cell_type": "markdown",
   "metadata": {},
   "source": [
    "#### Summary of Tests\n",
    "\n",
    "Num vs Num(tgt) - TTest\n",
    "Cat vs Num(tgt) - Anova\n",
    "Cat vs Cat(tgt) - Chi Square Test"
   ]
  }
 ],
 "metadata": {
  "kernelspec": {
   "display_name": "Python 3 (ipykernel)",
   "language": "python",
   "name": "python3"
  },
  "language_info": {
   "codemirror_mode": {
    "name": "ipython",
    "version": 3
   },
   "file_extension": ".py",
   "mimetype": "text/x-python",
   "name": "python",
   "nbconvert_exporter": "python",
   "pygments_lexer": "ipython3",
   "version": "3.9.13"
  }
 },
 "nbformat": 4,
 "nbformat_minor": 4
}
