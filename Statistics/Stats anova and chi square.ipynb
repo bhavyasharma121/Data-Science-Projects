{
 "cells": [
  {
   "cell_type": "code",
   "execution_count": 3,
   "metadata": {},
   "outputs": [],
   "source": [
    "import numpy as np\n",
    "import pandas as pd\n",
    "import scipy.stats as stats"
   ]
  },
  {
   "cell_type": "markdown",
   "metadata": {},
   "source": [
    "#### Difference between One Way anova and Two Way Anova¶\n",
    "\n",
    "* One Way Anova is when you introduce One Categorical Variable & A Numerical Variable.\n",
    "* On the other hand, if we want to analyse multiple categorical variables with a numerical variable, then it is called Two Way Anova.\n",
    "\n",
    "* For example Pclass vs Fare is an example of One Way Anova with One categorical variable with 03 Levels (Class1, Class2 & 3) and a Numerical Variable.\n",
    "\n",
    "* Whereas the Two Way Anova is two or more categorical variables with a numerical variables. "
   ]
  },
  {
   "cell_type": "code",
   "execution_count": 11,
   "metadata": {},
   "outputs": [],
   "source": [
    "cat1 = [1,2,5]\n",
    "cat2 = [2,4,2]\n",
    "cat3 = [2,3,4]"
   ]
  },
  {
   "cell_type": "code",
   "execution_count": 4,
   "metadata": {},
   "outputs": [],
   "source": [
    "# F Critical ~ 0.90\n"
   ]
  },
  {
   "cell_type": "markdown",
   "metadata": {},
   "source": [
    "Total marks in aptitude exam are recorded for students with different race/ethnicity. Test whether all the races/ethnicities have an equal average score with 0.05 level of significance. **students data**\n",
    "\n",
    "Use the performance dataset of students available in the CSV file students_data.csv.\n",
    "\n",
    "\n",
    "* **Ho: That the Student Score has NO Relation with Ethinicity**\n",
    "* **Ha: That the Student Score has Relation with Ethinicity**\n",
    "\n",
    "* H0: Mew(GroupA) = Mew(GroupB).....\n",
    "* H0: Mew(GroupA) != Mew(GroupB)....."
   ]
  },
  {
   "cell_type": "code",
   "execution_count": 27,
   "metadata": {},
   "outputs": [
    {
     "data": {
      "text/html": [
       "<div>\n",
       "<style scoped>\n",
       "    .dataframe tbody tr th:only-of-type {\n",
       "        vertical-align: middle;\n",
       "    }\n",
       "\n",
       "    .dataframe tbody tr th {\n",
       "        vertical-align: top;\n",
       "    }\n",
       "\n",
       "    .dataframe thead th {\n",
       "        text-align: right;\n",
       "    }\n",
       "</style>\n",
       "<table border=\"1\" class=\"dataframe\">\n",
       "  <thead>\n",
       "    <tr style=\"text-align: right;\">\n",
       "      <th></th>\n",
       "      <th>gender</th>\n",
       "      <th>race/ethnicity</th>\n",
       "      <th>lunch</th>\n",
       "      <th>test preparation course</th>\n",
       "      <th>math score</th>\n",
       "      <th>reading score</th>\n",
       "      <th>writing score</th>\n",
       "      <th>total score</th>\n",
       "      <th>training institute</th>\n",
       "    </tr>\n",
       "  </thead>\n",
       "  <tbody>\n",
       "    <tr>\n",
       "      <th>0</th>\n",
       "      <td>female</td>\n",
       "      <td>group B</td>\n",
       "      <td>standard</td>\n",
       "      <td>none</td>\n",
       "      <td>89</td>\n",
       "      <td>55</td>\n",
       "      <td>56</td>\n",
       "      <td>200</td>\n",
       "      <td>Nature Learning</td>\n",
       "    </tr>\n",
       "    <tr>\n",
       "      <th>1</th>\n",
       "      <td>female</td>\n",
       "      <td>group C</td>\n",
       "      <td>standard</td>\n",
       "      <td>completed</td>\n",
       "      <td>55</td>\n",
       "      <td>63</td>\n",
       "      <td>72</td>\n",
       "      <td>190</td>\n",
       "      <td>Nature Learning</td>\n",
       "    </tr>\n",
       "    <tr>\n",
       "      <th>2</th>\n",
       "      <td>female</td>\n",
       "      <td>group B</td>\n",
       "      <td>standard</td>\n",
       "      <td>none</td>\n",
       "      <td>64</td>\n",
       "      <td>71</td>\n",
       "      <td>56</td>\n",
       "      <td>191</td>\n",
       "      <td>Nature Learning</td>\n",
       "    </tr>\n",
       "    <tr>\n",
       "      <th>3</th>\n",
       "      <td>male</td>\n",
       "      <td>group A</td>\n",
       "      <td>free/reduced</td>\n",
       "      <td>none</td>\n",
       "      <td>60</td>\n",
       "      <td>99</td>\n",
       "      <td>72</td>\n",
       "      <td>231</td>\n",
       "      <td>Nature Learning</td>\n",
       "    </tr>\n",
       "    <tr>\n",
       "      <th>4</th>\n",
       "      <td>male</td>\n",
       "      <td>group C</td>\n",
       "      <td>standard</td>\n",
       "      <td>none</td>\n",
       "      <td>75</td>\n",
       "      <td>66</td>\n",
       "      <td>51</td>\n",
       "      <td>192</td>\n",
       "      <td>Nature Learning</td>\n",
       "    </tr>\n",
       "  </tbody>\n",
       "</table>\n",
       "</div>"
      ],
      "text/plain": [
       "   gender race/ethnicity         lunch test preparation course  math score  \\\n",
       "0  female        group B      standard                    none          89   \n",
       "1  female        group C      standard               completed          55   \n",
       "2  female        group B      standard                    none          64   \n",
       "3    male        group A  free/reduced                    none          60   \n",
       "4    male        group C      standard                    none          75   \n",
       "\n",
       "   reading score  writing score  total score training institute  \n",
       "0             55             56          200    Nature Learning  \n",
       "1             63             72          190    Nature Learning  \n",
       "2             71             56          191    Nature Learning  \n",
       "3             99             72          231    Nature Learning  \n",
       "4             66             51          192    Nature Learning  "
      ]
     },
     "execution_count": 27,
     "metadata": {},
     "output_type": "execute_result"
    }
   ],
   "source": [
    "student = pd.read_csv(\"~/Downloads/StudentsPerformance.csv\")\n",
    "student.head()"
   ]
  },
  {
   "cell_type": "code",
   "execution_count": 28,
   "metadata": {},
   "outputs": [
    {
     "data": {
      "text/plain": [
       "array(['group B', 'group C', 'group A', 'group D', 'group E'],\n",
       "      dtype=object)"
      ]
     },
     "execution_count": 28,
     "metadata": {},
     "output_type": "execute_result"
    }
   ],
   "source": [
    "student[\"race/ethnicity\"].unique()"
   ]
  },
  {
   "cell_type": "code",
   "execution_count": null,
   "metadata": {},
   "outputs": [],
   "source": []
  },
  {
   "cell_type": "code",
   "execution_count": 5,
   "metadata": {},
   "outputs": [],
   "source": [
    "# Print the Anova Table\n",
    "\n"
   ]
  },
  {
   "cell_type": "markdown",
   "metadata": {},
   "source": [
    "Conclusion: Race has nothing to do with the scores...\n"
   ]
  },
  {
   "cell_type": "markdown",
   "metadata": {},
   "source": [
    "Ryan is a production manager at an industry manufacturing alloy seals. They have 4 machines - A, B, C and D. Ryan wants to study whether all the machines have equal efficiency. Ryan collects data of tensile strength from all the 4 machines as given. Test at 5% level of significance.\n",
    "\n",
    "\n",
    "* **Ho: Efficiency is Same across All the Machines. Mew(Tensile Strength_A) = Mew(Tensile Strength_B)...**\n",
    "\n",
    "* **Ha: Efficiency is NOT Same across All the Machines. Mew(Tensile Strength_A) != Mew(Tensile Strength_B)...**\n",
    "\n",
    "Since we are dealing with > 02 categories, therefore, we will apply Anova"
   ]
  },
  {
   "cell_type": "code",
   "execution_count": 69,
   "metadata": {},
   "outputs": [],
   "source": [
    "# given data\n",
    "# tensile strength due to machine A\n",
    "A = [68.7, 75.4, 70.9, 79.1, 78.2]\n",
    "\n",
    "# tensile strength due to machine B\n",
    "B = [62.7, 68.5, 63.1, 62.2, 60.3]\n",
    "\n",
    "# tensile strength due to machine C\n",
    "C = [55.9, 56.1, 57.3, 59.2, 50.1]\n",
    "\n",
    "# tensile strength due to machine D\n",
    "D = [80.7, 70.3, 80.9, 85.4, 82.3]"
   ]
  },
  {
   "cell_type": "code",
   "execution_count": 6,
   "metadata": {},
   "outputs": [],
   "source": [
    "# Apply One Way Anova...\n",
    "\n"
   ]
  },
  {
   "cell_type": "code",
   "execution_count": null,
   "metadata": {},
   "outputs": [],
   "source": []
  },
  {
   "cell_type": "markdown",
   "metadata": {},
   "source": [
    "Ryan is a production manager at an industry manufacturing alloy seals. They have 4 machines - A, B, C and D. Ryan wants to study whether all the machines have equal efficiency. Ryan collects data of tensile strength from all the 4 machines as given. Perform the post-hoc test to find out which machine has a different average. Test at 5% level of significance.¶"
   ]
  },
  {
   "cell_type": "code",
   "execution_count": 4,
   "metadata": {},
   "outputs": [],
   "source": [
    "# create a dataframe using a dictionary from given data\n",
    "df_machine = pd.DataFrame(data = {'machine': ['machine_A','machine_B','machine_C','machine_D']*5, \n",
    "                                  'strength': [68.7, 62.7, 55.9, 80.7, 75.4, 68.5, 56.1, 70.3, 70.9, 63.1, 57.3, 80.9, 79.1, \n",
    "                                               62.2, 59.2, 85.4, 78.2, 60.3, 50.1, 82.3]})"
   ]
  },
  {
   "cell_type": "markdown",
   "metadata": {},
   "source": [
    "### Post Hoc Test\n",
    "\n",
    "* Post Hoc Test (Tukey HSD Test) is to find out the difference in the mean. It is used to identify which of the categories reflect the difference...\n",
    "\n",
    "* It is applied when the Anova rejects the Ho so we can conclude that at least 01 category has a different mean from the rest."
   ]
  },
  {
   "cell_type": "code",
   "execution_count": 7,
   "metadata": {},
   "outputs": [],
   "source": [
    "import statsmodels.stats.multicomp as multi_comp\n",
    "\n",
    "from statsmodels.stats.multicomp import pairwise_tukeyhsd"
   ]
  },
  {
   "cell_type": "markdown",
   "metadata": {},
   "source": [
    "### Summary of Tukey HSD Test\n",
    "\n",
    "A Pairwise Tukey HSD Test is used in Anova to find the **difference in the mean which is resulting in variance in the categories.**\n",
    "\n",
    "In other words, this test reflects the difference in the performance amongst categories.\n",
    "\n",
    "The reject = False means we Fail to Reject the Ho meaning that the Machine Combinations A~D and B~C are producing the same quality of Iron Rods.\n",
    "\n",
    "However, where the Reject = True means that We Reject the Ho meaning that these combinations are worth investigating because may be these machines are not producing the same quality of iron rod.\n",
    "\n",
    "Note -Lower and Upper are the lower and upper bounds of Confidence Interval for Mean Difference at 0.95."
   ]
  },
  {
   "cell_type": "markdown",
   "metadata": {},
   "source": [
    "## Equivalent Non Parametric Test  - Kruskall Wallis Test\n",
    "\n",
    "* If one of the assumptions of one-way ANOVA is not satisfied, then we can perform the **Kruskal-Wallis H test** which is a non-parametric equivalent test for one-way ANOVA.\n",
    "\n",
    "* **Wilcoxon Signed-Ranks** test is the nonparametric version of the **Two Sample Related T-Test**\n",
    "\n",
    "* If the Data is not following Normal Distribution, then one can use **Mann Whitney U** test inplace of Independent Two Sample T-Test. It is also known as **Mann Whitney Wilcoxon Test or the Wilcoxon Rank Sum Test**.\n",
    "\n",
    "\n",
    "\n",
    "\n",
    "\n",
    "\n",
    "A gym trainer wants to provide an energy bar to all his customers to increase muscle strength. Three different companies approached the gym trainer with their high-quality energy bars. The trainer collects an amount of calcium (in g) in the energy bar from three companies and he wants to study whether all the bars have an equal amount of calcium on average. Test at 5% level of significance.\n",
    "\n",
    "given data:\n",
    "       * alpha_bar = [24.4, 20.7, 56.9, 19.5]\n",
    "       * beta_bar = [53.2, 54.7, 20.5, 15.8, 56.6]\n",
    "       * gamma_bar = [54, 31, 22.8, 24.7]\n",
    "       \n",
    "\n",
    "* **Ho: That All the Energy Bars have Same Quantity of Calcium**\n",
    "* **Ha: That All the Energy Bars Do Not have Same Quantity of Calcium**"
   ]
  },
  {
   "cell_type": "code",
   "execution_count": 89,
   "metadata": {},
   "outputs": [],
   "source": [
    "# given data\n",
    "# amount of calcium in alpha_bar\n",
    "alpha_bar = [24.4, 20.7, 56.9, 19.5]\n",
    "\n",
    "# amount of calcium in beta_bar\n",
    "beta_bar = [53.2, 54.7, 20.5, 15.8, 56.6]\n",
    "\n",
    "# amount of calcium in gamma_bar\n",
    "gamma_bar = [54, 31, 22.8, 24.7]"
   ]
  },
  {
   "cell_type": "code",
   "execution_count": null,
   "metadata": {},
   "outputs": [],
   "source": []
  },
  {
   "cell_type": "code",
   "execution_count": null,
   "metadata": {},
   "outputs": [],
   "source": []
  },
  {
   "cell_type": "code",
   "execution_count": null,
   "metadata": {},
   "outputs": [],
   "source": []
  },
  {
   "cell_type": "markdown",
   "metadata": {},
   "source": [
    "Check if there is any effect of **gender** and completion of **test preparation course** on the total marks. Perform two-way ANOVA with 5% level of significance.\n",
    "\n",
    "* *Ho: That there is no effect of the Test Preparation on the Total Score**\n",
    "* *Ha: That there is effect of the Test Preparation on the Total Score**\n",
    "\n",
    "* *Ho: That there is no effect of Gender on the Total Score**\n",
    "* *Ha: That there is effect of the Gender on the Total Score**"
   ]
  },
  {
   "cell_type": "code",
   "execution_count": 91,
   "metadata": {},
   "outputs": [
    {
     "data": {
      "text/html": [
       "<div>\n",
       "<style scoped>\n",
       "    .dataframe tbody tr th:only-of-type {\n",
       "        vertical-align: middle;\n",
       "    }\n",
       "\n",
       "    .dataframe tbody tr th {\n",
       "        vertical-align: top;\n",
       "    }\n",
       "\n",
       "    .dataframe thead th {\n",
       "        text-align: right;\n",
       "    }\n",
       "</style>\n",
       "<table border=\"1\" class=\"dataframe\">\n",
       "  <thead>\n",
       "    <tr style=\"text-align: right;\">\n",
       "      <th></th>\n",
       "      <th>gender</th>\n",
       "      <th>race/ethnicity</th>\n",
       "      <th>lunch</th>\n",
       "      <th>test preparation course</th>\n",
       "      <th>math score</th>\n",
       "      <th>reading score</th>\n",
       "      <th>writing score</th>\n",
       "      <th>training institute</th>\n",
       "      <th>total_score</th>\n",
       "      <th>race</th>\n",
       "    </tr>\n",
       "  </thead>\n",
       "  <tbody>\n",
       "    <tr>\n",
       "      <th>0</th>\n",
       "      <td>female</td>\n",
       "      <td>group B</td>\n",
       "      <td>standard</td>\n",
       "      <td>none</td>\n",
       "      <td>89</td>\n",
       "      <td>55</td>\n",
       "      <td>56</td>\n",
       "      <td>Nature Learning</td>\n",
       "      <td>200</td>\n",
       "      <td>group B</td>\n",
       "    </tr>\n",
       "    <tr>\n",
       "      <th>1</th>\n",
       "      <td>female</td>\n",
       "      <td>group C</td>\n",
       "      <td>standard</td>\n",
       "      <td>completed</td>\n",
       "      <td>55</td>\n",
       "      <td>63</td>\n",
       "      <td>72</td>\n",
       "      <td>Nature Learning</td>\n",
       "      <td>190</td>\n",
       "      <td>group C</td>\n",
       "    </tr>\n",
       "    <tr>\n",
       "      <th>2</th>\n",
       "      <td>female</td>\n",
       "      <td>group B</td>\n",
       "      <td>standard</td>\n",
       "      <td>none</td>\n",
       "      <td>64</td>\n",
       "      <td>71</td>\n",
       "      <td>56</td>\n",
       "      <td>Nature Learning</td>\n",
       "      <td>191</td>\n",
       "      <td>group B</td>\n",
       "    </tr>\n",
       "    <tr>\n",
       "      <th>3</th>\n",
       "      <td>male</td>\n",
       "      <td>group A</td>\n",
       "      <td>free/reduced</td>\n",
       "      <td>none</td>\n",
       "      <td>60</td>\n",
       "      <td>99</td>\n",
       "      <td>72</td>\n",
       "      <td>Nature Learning</td>\n",
       "      <td>231</td>\n",
       "      <td>group A</td>\n",
       "    </tr>\n",
       "    <tr>\n",
       "      <th>4</th>\n",
       "      <td>male</td>\n",
       "      <td>group C</td>\n",
       "      <td>standard</td>\n",
       "      <td>none</td>\n",
       "      <td>75</td>\n",
       "      <td>66</td>\n",
       "      <td>51</td>\n",
       "      <td>Nature Learning</td>\n",
       "      <td>192</td>\n",
       "      <td>group C</td>\n",
       "    </tr>\n",
       "  </tbody>\n",
       "</table>\n",
       "</div>"
      ],
      "text/plain": [
       "   gender race/ethnicity         lunch test preparation course  math score  \\\n",
       "0  female        group B      standard                    none          89   \n",
       "1  female        group C      standard               completed          55   \n",
       "2  female        group B      standard                    none          64   \n",
       "3    male        group A  free/reduced                    none          60   \n",
       "4    male        group C      standard                    none          75   \n",
       "\n",
       "   reading score  writing score training institute  total_score     race  \n",
       "0             55             56    Nature Learning          200  group B  \n",
       "1             63             72    Nature Learning          190  group C  \n",
       "2             71             56    Nature Learning          191  group B  \n",
       "3             99             72    Nature Learning          231  group A  \n",
       "4             66             51    Nature Learning          192  group C  "
      ]
     },
     "execution_count": 91,
     "metadata": {},
     "output_type": "execute_result"
    }
   ],
   "source": [
    "student.head()"
   ]
  },
  {
   "cell_type": "code",
   "execution_count": null,
   "metadata": {},
   "outputs": [],
   "source": []
  },
  {
   "cell_type": "code",
   "execution_count": 1,
   "metadata": {},
   "outputs": [],
   "source": [
    "# Assumption of Normality\n"
   ]
  },
  {
   "cell_type": "code",
   "execution_count": null,
   "metadata": {},
   "outputs": [],
   "source": []
  },
  {
   "cell_type": "markdown",
   "metadata": {},
   "source": [
    "### Chi Square Test\n",
    "\n",
    "* Based on Categorical Data.\n",
    "* This is a test is applied only on Categories. \n",
    "* Well Suited For Classification Problems in Machine Learning.\n",
    "* The Ho is that Two Categories have nothing in Common or One Cat has no effect on the other...\n",
    "* Alternate - That both the categories are related.\n",
    "\n",
    "* Again, this is a Non Parametric Test meaning that there is no assumption about the Data.\n",
    "\n",
    "* Since, we deal only in **categories** therefore, we only work on Frequency/Value_Counts() data.\n",
    "\n",
    "* It is based on Observed Values (Coming from Data) and Expected Values (Which we calculate) and basis that we find out our test statistic.\n",
    "\n",
    "* Chi Square Table is based on Degrees of Freedom and it is also a Right Tail Test.\n",
    "\n",
    "1. A Chi Square Test is a Test of Hypothesis where two samples are tested for Independence.\n",
    "\n",
    "2. Here, we dont compare the means of samples coming from same or different population. Here, we have Categorical Variables/Dichotomous Variables on which we perform the test.\n",
    "\n",
    "3. We check if these samples with different categories are independent of each other or there is some pattern of Being Dependent.\n",
    "\n",
    "4. If there is Dependence, researcher claims that these two variables have significant relationship. In other words, One variable is linked/being driven by the other. For e.g. Survival in Titanic is Dependent on the Family Count.\n",
    "\n",
    "5. The Data we recieve in question is called as \"Observed Frequencies\". We need to calculate the Expected Frequencies.\n",
    "\n",
    "6. Formula = SUM[(Obs-Exp)**2/Exp] - Chi Square Test Statistic."
   ]
  },
  {
   "cell_type": "markdown",
   "metadata": {},
   "source": [
    "A bank has an ATM installed inside the bank, and it is available to its customers only from 7 am to 6 pm Monday through Friday. **The manager of the bank wanted to investigate if the number of people who use this ATM is the same for each of the 5 days (Monday through Friday) of the week.** She randomly selected one week and counted the number of people who used this ATM on each of the 5 days during that week. \n",
    "\n",
    "At a 1% level of significance, can we reject the null hypothesis that the number of people who use this ATM each of the 5 days of the week is the same?\n",
    "\n",
    "\n",
    "* Ho: That the Count of People is Same Across All Days**\n",
    "* Ha: That the Count of People is Not Same Across All Days**"
   ]
  },
  {
   "cell_type": "code",
   "execution_count": 8,
   "metadata": {},
   "outputs": [],
   "source": [
    "# Chi Square Critical Value\n"
   ]
  },
  {
   "cell_type": "code",
   "execution_count": 9,
   "metadata": {},
   "outputs": [],
   "source": [
    "days = [\"Mon\", \"Tue\", \"Wed\", \"Thu\", \"Fri\"]\n",
    "Users = [253, 197, 204, 279, 267] # Observed Values\n"
   ]
  },
  {
   "cell_type": "markdown",
   "metadata": {},
   "source": [
    "### Conclusion of the Test\n",
    "* If the Test Statistic > Critical Value, Then We Reject the Ho.\n",
    "* If the Test Statistic < Critical Value, Then We Fail to Reject the Ho.\n",
    "\n",
    "As per the Rule We Reject the Ho meaning that the Count of People visiting ATM is not Same for all days."
   ]
  },
  {
   "cell_type": "markdown",
   "metadata": {},
   "source": [
    "At an emporium, the manager is interested in knowing the age group which visits the mall during the day. He defines categories as - **children, teenagers, adults and senior citizens.** **He plans to have his inventory of goods accordingly. He claims that out of all the people who visited 5% are children, 38% are teenagers, 2% are senior citizens are remaining are adults.** From a sample of 180 people, it was seen that 25 were children, 50 were teenagers, 90 were adults and 15 were senior citizens. Test the manager’s claim at a 95% confidence level.\n",
    "\n",
    "* Ho: That the Manager Claims the Ratio of People Visiting the Mall is [0.05, 0.38, 0.02, 0.55]\n",
    "* Ha: That the Manager Claims the Ratio of People Visiting the Mall is [0.05, 0.38, 0.02, 0.55] incorrect\n"
   ]
  },
  {
   "cell_type": "code",
   "execution_count": 2,
   "metadata": {},
   "outputs": [],
   "source": [
    "visitor_count = [25, 50, 90, 15]\n",
    "\n",
    "exp_percent = [0.05, 0.38, 0.02, 0.55]\n",
    "\n"
   ]
  },
  {
   "cell_type": "code",
   "execution_count": 1,
   "metadata": {},
   "outputs": [],
   "source": [
    "# Lets find the Chi Test Statistic\n",
    "\n"
   ]
  },
  {
   "cell_type": "markdown",
   "metadata": {},
   "source": [
    "#### Types of Error\n",
    "\n",
    "1. There are two types of Error - Type 1 Error and Type 2 Error.\n",
    "\n",
    "* **How to Reduce the Risk of Making Type 1 Error**\n",
    "\n",
    "The risk of making a Type I error is the significance level (or alpha). That’s a value that you set at the beginning of your study to assess the statistical probability of obtaining your results (p value).\n",
    "To reduce the Type I error probability, you can set a lower significance level.\n",
    "\n",
    "* **How to Reduce the Risk of Making Type 2 Error**\n",
    "\n",
    "The risk of making a Type II error is inversely related to the statistical power of a test. Power is the extent to which a test can correctly detect a real effect when there is one.\n",
    "\n",
    "To (indirectly) reduce the risk of a Type II error, you can increase the sample size or the significance level to increase statistical power.\n",
    "\n",
    "* **What is the Power of the Test**\n",
    "\n",
    "In statistics, power refers to the likelihood of a hypothesis test detecting a true effect if there is one. A statistically powerful test is more likely to reject a false negative (a Type II error).\n",
    "\n",
    "If you don’t ensure enough power in your study, you may not be able to detect a statistically significant result even when it has practical significance. Your study might not have the ability to answer your research question.\n",
    "\n",
    "* **How to Increase the Power of the Test**\n",
    "\n",
    "There are various ways to improve power:\n",
    "\n",
    "* Increase the potential effect size by manipulating your independent variable more strongly,\n",
    "* Increase sample size,\n",
    "* Increase the significance level (alpha)"
   ]
  },
  {
   "cell_type": "code",
   "execution_count": null,
   "metadata": {},
   "outputs": [],
   "source": []
  }
 ],
 "metadata": {
  "kernelspec": {
   "display_name": "Python 3 (ipykernel)",
   "language": "python",
   "name": "python3"
  },
  "language_info": {
   "codemirror_mode": {
    "name": "ipython",
    "version": 3
   },
   "file_extension": ".py",
   "mimetype": "text/x-python",
   "name": "python",
   "nbconvert_exporter": "python",
   "pygments_lexer": "ipython3",
   "version": "3.9.12"
  }
 },
 "nbformat": 4,
 "nbformat_minor": 4
}
